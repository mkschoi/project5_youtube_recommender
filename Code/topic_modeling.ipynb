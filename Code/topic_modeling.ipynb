{
 "cells": [
  {
   "cell_type": "code",
   "execution_count": 1,
   "metadata": {},
   "outputs": [],
   "source": [
    "import numpy as np\n",
    "import pandas as pd\n",
    "import pickle\n",
    "\n",
    "import spacy\n",
    "nlp = spacy.load('en_core_web_sm')\n",
    "\n",
    "from sklearn.feature_extraction.text import TfidfVectorizer, CountVectorizer\n",
    "from sklearn.decomposition import NMF, LatentDirichletAllocation\n",
    "\n",
    "pd.set_option(\"display.max_rows\", 1000)\n",
    "# pd.set_option(\"max_colwidth\", 200)\n",
    "\n",
    "%load_ext autoreload\n",
    "%autoreload 2"
   ]
  },
  {
   "cell_type": "code",
   "execution_count": 2,
   "metadata": {},
   "outputs": [],
   "source": [
    "df_videos_cleaned_v7 = pickle.load(open('../Data/df_videos_cleaned_v7.pickle', 'rb'))"
   ]
  },
  {
   "cell_type": "markdown",
   "metadata": {},
   "source": [
    "### All the functions (Need to put these into a separate .py file)"
   ]
  },
  {
   "cell_type": "code",
   "execution_count": 3,
   "metadata": {},
   "outputs": [],
   "source": [
    "def remove_custom_stopwords(df):\n",
    "    '''\n",
    "    Input: Cleaned dataframe\n",
    "    Output: Dataframe with custom stopwords removed\n",
    "    '''\n",
    "    def final_preprocessing(cleaned_text):  \n",
    "        nlp.Defaults.stop_words |= {'uh','yeah','man','um','oh','guy','maybe','bye','hey', 'sort'}\n",
    "        stopwords = nlp.Defaults.stop_words\n",
    "        \n",
    "        preprocessed_text_12 = [(word.lower(), pos) for word, pos in cleaned_text \n",
    "                                    if word.lower() not in stopwords] \n",
    "        \n",
    "        return preprocessed_text_12\n",
    "    \n",
    "    df['Transcript'] = df['Transcript'].apply(final_preprocessing)\n",
    "            \n",
    "    return df  "
   ]
  },
  {
   "cell_type": "code",
   "execution_count": 4,
   "metadata": {},
   "outputs": [],
   "source": [
    "def document_term_matrix(df, vectorizer):\n",
    "    '''\n",
    "    Input: Cleaned dataframe (after removing custom stopwords) and type of vectorizer\n",
    "    Output: Document-term matrix\n",
    "    '''\n",
    "    ## Take the words out of the (word, POS) tuple, vectorize, and fit-transform into a matrix\n",
    "    word_list = [[word[0] for word in doc] for doc in df['Transcript']]\n",
    "    vec = vectorizer(tokenizer=lambda doc:doc, lowercase=False, min_df=2, max_df=0.3)\n",
    "    matrix = vec.fit_transform(word_list).toarray()\n",
    "        \n",
    "    return matrix, vec.get_feature_names()"
   ]
  },
  {
   "cell_type": "code",
   "execution_count": 5,
   "metadata": {},
   "outputs": [],
   "source": [
    "def topic_model(matrix, model, num_topics, num_words):\n",
    "    '''\n",
    "    Input: Document-term matrix, type of topic model, number of topics, and number of words is each topic\n",
    "    Output: a list of lists containing topic words\n",
    "    '''\n",
    "    ## Creates an instance of an NMF or LDA model\n",
    "    if model == NMF:\n",
    "        model = model(num_topics)\n",
    "    elif model == LatentDirichletAllocation:\n",
    "        model = model(n_components=num_topics)\n",
    "        \n",
    "    ## Fit_transform (matrix factorization for NMF) the doc_word matrix to get doc_topic and topic_word matrices\n",
    "    doc_topic = model.fit_transform(matrix)\n",
    "    topic_word = model.components_\n",
    "    \n",
    "    ## Retrieves the top words in each topic\n",
    "    words = document_term_matrix(df_videos_cleaned_v9, CountVectorizer)[1]\n",
    "    t_model = topic_word.argsort(axis=1)[:, -1:-(num_words+1):-1]\n",
    "    top_topic_words = [[words[i] for i in topic] for topic in t_model]\n",
    "        \n",
    "    return top_topic_words, doc_topic"
   ]
  },
  {
   "cell_type": "code",
   "execution_count": 6,
   "metadata": {},
   "outputs": [],
   "source": [
    "def corpus_of_adjectives(df):\n",
    "    '''\n",
    "    Input: Cleaned dataframe (after removing custom stopwords) \n",
    "    Output: Dataframe with only adjectives in the transcript corpus\n",
    "    '''\n",
    "    def adjectives(cleaned_text):\n",
    "        \n",
    "        preprocessed_text_adj = [(word.lower(), pos) for word, pos in cleaned_text \n",
    "                                    if pos=='ADJ'] \n",
    "        \n",
    "        return preprocessed_text_adj\n",
    "    \n",
    "    df['Transcript'] = df['Transcript'].apply(adjectives)\n",
    "            \n",
    "    return df"
   ]
  },
  {
   "cell_type": "code",
   "execution_count": 7,
   "metadata": {},
   "outputs": [],
   "source": [
    "def topic_assignment(df):\n",
    "    '''\n",
    "    Input: Cleaned dataframe (after removing custom stopwords)\n",
    "    Output: Dataframe with topic and topic coefficient added\n",
    "    '''\n",
    "    ## Takes the highest coefficient for each video (row) in the doc_topic matrix, and puts them into a list \n",
    "    doc_topic = topic_model(X_tfidf, NMF, 12, 7)[1]\n",
    "    topic_coeff = [round(np.max(coeffs),3) for coeffs in doc_topic]\n",
    "    topic = list(doc_topic.argmax(axis=1))\n",
    "    \n",
    "    ## Map topic indices to topic names\n",
    "    topic_keys = {0:'Value Investing', 1:'Valuation', 2:'Economic Moats', 3:'Passive Investing', \n",
    "                  4:'Valuation (Case Studies)', 5:'Technology Stocks', 6:'General', 7:'Value Investing', 8:'Fundamental vs. Technical Analysis', \n",
    "                  9:'Electric Vehicle Stocks', 10:'Value Investing', 11:'Dividend Investing'}\n",
    "    \n",
    "    topic_name = [topic_keys.get(topic_index,'') for topic_index in topic]\n",
    "    \n",
    "    ## Add the Topic and Topic Coefficient columns\n",
    "    df['Topic'] = topic_name\n",
    "    df['Topic Coefficient'] = topic_coeff\n",
    "    \n",
    "    return df"
   ]
  },
  {
   "cell_type": "code",
   "execution_count": 8,
   "metadata": {},
   "outputs": [],
   "source": [
    "def pickle_df(df_str):\n",
    "    '''\n",
    "    Input: Name of a dataframe in a string format\n",
    "    Output: Pickle the dataframe into the Data folder\n",
    "    '''  \n",
    "    with open('../Data/'+ df_str +'.pickle', 'wb') as f_video_data:\n",
    "        pickle.dump(eval(df_str), f_video_data)"
   ]
  },
  {
   "cell_type": "markdown",
   "metadata": {},
   "source": [
    "### Remove custom stopwords"
   ]
  },
  {
   "cell_type": "code",
   "execution_count": 9,
   "metadata": {},
   "outputs": [],
   "source": [
    "df_videos_cleaned_v8 = remove_custom_stopwords(df_videos_cleaned_v7)"
   ]
  },
  {
   "cell_type": "code",
   "execution_count": 10,
   "metadata": {},
   "outputs": [],
   "source": [
    "pickle_df('df_videos_cleaned_v8')"
   ]
  },
  {
   "cell_type": "markdown",
   "metadata": {},
   "source": [
    "### Creating document-term matrices"
   ]
  },
  {
   "cell_type": "code",
   "execution_count": 11,
   "metadata": {},
   "outputs": [],
   "source": [
    "df_videos_cleaned_v9 = pickle.load(open('../Data/df_videos_cleaned_v9.pickle', 'rb'))"
   ]
  },
  {
   "cell_type": "markdown",
   "metadata": {},
   "source": [
    "#### CountVectorizer"
   ]
  },
  {
   "cell_type": "code",
   "execution_count": 12,
   "metadata": {},
   "outputs": [],
   "source": [
    "X_cv = document_term_matrix(df_videos_cleaned_v9, CountVectorizer)[0]"
   ]
  },
  {
   "cell_type": "markdown",
   "metadata": {},
   "source": [
    "#### TfidfVectorizer"
   ]
  },
  {
   "cell_type": "code",
   "execution_count": 13,
   "metadata": {},
   "outputs": [],
   "source": [
    "X_tfidf = document_term_matrix(df_videos_cleaned_v9, TfidfVectorizer)[0]"
   ]
  },
  {
   "cell_type": "markdown",
   "metadata": {},
   "source": [
    "### Topic modeling - Entire corpus"
   ]
  },
  {
   "cell_type": "markdown",
   "metadata": {},
   "source": [
    "#### Non-negative matrix factorization (NMF), CountVectorizer"
   ]
  },
  {
   "cell_type": "code",
   "execution_count": 14,
   "metadata": {},
   "outputs": [
    {
     "data": {
      "text/plain": [
       "[['life', 'team', 'cheap', 'stuff', 'problem', 'answer', 'berkshire'],\n",
       " ['option', 'leap', 'decay', 'cover', 'spread', 'view', 'ge'],\n",
       " ['equal', 'divide', 'constant', 'discount', 'present', 'zero', 'minus'],\n",
       " ['graham', 'security', 'ben', 'street', 'intrinsic', 'wall', 'benjamin'],\n",
       " ['etf', 'holding', 'index', 'sector', 'expense', 'vanguard', 'individual'],\n",
       " ['bank', 'loan', 'credit', 'sector', 'percentage', 'loss', 'deposit'],\n",
       " ['unit', 'purchase', 'method', 'inventory', 'batch', 'system', 'blue'],\n",
       " ['moat', 'brand', 'customer', 'competitive', 'network', 'economic', 'mode'],\n",
       " ['tesla', 'apple', 'stuff', 'youtube', 'car', 'amazon', 'drop'],\n",
       " ['multiple', 'ebitda', 'pe', 'enterprise', 'statement', 'sheet', 'forecast'],\n",
       " ['report', 'news', 'release', 'economy', 'data', 'event', 'economic'],\n",
       " ['tax', 'roth', 'ira', 'retire', 'live', 'estate', 'goal']]"
      ]
     },
     "execution_count": 14,
     "metadata": {},
     "output_type": "execute_result"
    }
   ],
   "source": [
    "topics_nmf_cv = topic_model(X_cv, NMF, 12, 7)[0]\n",
    "topics_nmf_cv"
   ]
  },
  {
   "cell_type": "markdown",
   "metadata": {},
   "source": [
    "#### Non-negative matrix factorization (NMF), TfidfVectorizer"
   ]
  },
  {
   "cell_type": "code",
   "execution_count": 15,
   "metadata": {},
   "outputs": [
    {
     "data": {
      "text/plain": [
       "[['index', 'life', 'cheap', 'warren', 'bond', 'manager', 'answer'],\n",
       " ['constant', 'formula', 'equal', 'divide', 'present', 'minus', 'calculate'],\n",
       " ['moat', 'mode', 'competitive', 'economic', 'competitor', 'brand', 'castle'],\n",
       " ['etf', 'holding', 'vanguard', 'index', 'expense', 'etfs', 'sector'],\n",
       " ['ebitda', 'enterprise', 'multiple', 'irr', 'da', 'forecast', 'decade'],\n",
       " ['apple', 'cent', 'facebook', 'microsoft', 'amazon', 'iphone', 'google'],\n",
       " ['foreign', 'applause', 'raider', 'backbone', 'nifty', 'twice', 'prior'],\n",
       " ['intrinsic',\n",
       "  'discount',\n",
       "  'method',\n",
       "  'calculate',\n",
       "  'graham',\n",
       "  'safety',\n",
       "  'estimate'],\n",
       " ['technical', 'trader', 'chart', 'trend', 'volume', 'shortterm', 'statement'],\n",
       " ['tesla', 'car', 'vehicle', 'elon', 'battery', 'neo', 'electric'],\n",
       " ['pe', 'eps', 'divide', 'multiple', 'peg', 'amazon', 'metric'],\n",
       " ['bank', 'loan', 'sector', 'rupee', 'statement', 'deposit', 'liability']]"
      ]
     },
     "execution_count": 15,
     "metadata": {},
     "output_type": "execute_result"
    }
   ],
   "source": [
    "topics_nmf_tfidf = topic_model(X_tfidf, NMF, 12, 7)[0]\n",
    "topics_nmf_tfidf"
   ]
  },
  {
   "cell_type": "markdown",
   "metadata": {},
   "source": [
    "#### Latent Dirichlet Allocation (LDA), CountVectorizer"
   ]
  },
  {
   "cell_type": "code",
   "execution_count": 16,
   "metadata": {},
   "outputs": [
    {
     "data": {
      "text/plain": [
       "[['warren', 'graham', 'life', 'stuff', 'berkshire', 'write', 'wrong'],\n",
       " ['index', 'bond', 'inflation', 'sp', 'factor', 'mutual', 'cheap'],\n",
       " ['moat', 'bank', 'customer', 'competitive', 'brand', 'economic', 'mode'],\n",
       " ['tax', 'goal', 'estate', 'etf', 'holding', 'live', 'individual'],\n",
       " ['discount', 'divide', 'calculate', 'pe', 'equal', 'formula', 'multiple'],\n",
       " ['etf', 'tesla', 'apple', 'option', 'amazon', 'cent', 'list']]"
      ]
     },
     "execution_count": 16,
     "metadata": {},
     "output_type": "execute_result"
    }
   ],
   "source": [
    "topics_lda_cv = topic_model(X_cv, LatentDirichletAllocation, 6, 7)[0]\n",
    "topics_lda_cv"
   ]
  },
  {
   "cell_type": "markdown",
   "metadata": {},
   "source": [
    "### Topic modeling - Adjectives"
   ]
  },
  {
   "cell_type": "code",
   "execution_count": 17,
   "metadata": {},
   "outputs": [],
   "source": [
    "df_videos_cleaned_v9_adj = df_videos_cleaned_v9.copy()"
   ]
  },
  {
   "cell_type": "code",
   "execution_count": 18,
   "metadata": {},
   "outputs": [],
   "source": [
    "df_videos_cleaned_adj = corpus_of_adjectives(df_videos_cleaned_v9_adj)"
   ]
  },
  {
   "cell_type": "code",
   "execution_count": 19,
   "metadata": {},
   "outputs": [],
   "source": [
    "X_cv_adj = document_term_matrix(df_videos_cleaned_adj, CountVectorizer)[0]"
   ]
  },
  {
   "cell_type": "code",
   "execution_count": 20,
   "metadata": {},
   "outputs": [],
   "source": [
    "X_tfidf_adj = document_term_matrix(df_videos_cleaned_adj, TfidfVectorizer)[0]"
   ]
  },
  {
   "cell_type": "markdown",
   "metadata": {},
   "source": [
    "#### Non-negative matrix factorization (NMF), CountVectorizer"
   ]
  },
  {
   "cell_type": "code",
   "execution_count": 21,
   "metadata": {},
   "outputs": [
    {
     "data": {
      "text/plain": [
       "[['brownforman', 'bahamas', 'beget', 'allow', 'cardinal', 'airline'],\n",
       " ['brownfield', 'break', 'burt', 'airline', 'cannula', 'caltech'],\n",
       " ['amalgam', 'candor', 'brew', 'break', 'acl', 'allianz'],\n",
       " ['boy', 'aj', 'break', 'brazilian', 'bulk', 'bookkeeper'],\n",
       " ['article', 'allianz', 'attain', 'candor', 'cannula', 'behaviorally'],\n",
       " ['beth', 'candor', 'assured', 'alumnus', 'alexis', 'commissionfree']]"
      ]
     },
     "execution_count": 21,
     "metadata": {},
     "output_type": "execute_result"
    }
   ],
   "source": [
    "topics_nmf_cv_adj = topic_model(X_cv_adj, NMF, 6, 6)[0]\n",
    "topics_nmf_cv_adj"
   ]
  },
  {
   "cell_type": "markdown",
   "metadata": {},
   "source": [
    "#### Non-negative matrix factorization (NMF), TfidfVectorizer"
   ]
  },
  {
   "cell_type": "code",
   "execution_count": 22,
   "metadata": {},
   "outputs": [
    {
     "data": {
      "text/plain": [
       "[['beget', 'brownforman', 'brownfield', 'bracelet', 'aj', 'bus'],\n",
       " ['amalgam', 'candor', 'article', 'brownfield', 'allianz', 'canberra'],\n",
       " ['beth', 'assured', 'commissionfree', 'candor', 'alumnus', 'compose'],\n",
       " ['allow', 'archaic', 'cocaine', 'contributes', 'beraldo', 'arab'],\n",
       " ['coil', 'adore', 'ageappropriate', 'burt', 'aum', 'airline'],\n",
       " ['break', 'boy', 'brazilian', 'bulk', 'caltech', 'acl']]"
      ]
     },
     "execution_count": 22,
     "metadata": {},
     "output_type": "execute_result"
    }
   ],
   "source": [
    "topics_nmf_tfidf_adj = topic_model(X_tfidf_adj, NMF, 6, 6)[0]\n",
    "topics_nmf_tfidf_adj"
   ]
  },
  {
   "cell_type": "markdown",
   "metadata": {},
   "source": [
    "#### Latent Dirichlet Allocation (LDA), CountVectorizer"
   ]
  },
  {
   "cell_type": "code",
   "execution_count": 23,
   "metadata": {},
   "outputs": [
    {
     "data": {
      "text/plain": [
       "[['coil', 'convince', 'bsf', 'chrome', 'bahamas', 'clue'],\n",
       " ['allow', 'archaic', 'cocaine', 'anz', 'bookkeeper', 'axiom'],\n",
       " ['article', 'candor', 'amalgam', 'brownfield', 'beth', 'allianz'],\n",
       " ['aj', 'boy', 'beth', 'break', 'brazilian', 'assured'],\n",
       " ['brownfield', 'break', 'caltech', 'burt', 'brazilian', 'backup'],\n",
       " ['beget', 'brownforman', 'bracelet', 'bulletin', 'bus', 'blatantly']]"
      ]
     },
     "execution_count": 23,
     "metadata": {},
     "output_type": "execute_result"
    }
   ],
   "source": [
    "topics_lda_cv_adj = topic_model(X_cv_adj, LatentDirichletAllocation, 6, 6)[0]\n",
    "topics_lda_cv_adj"
   ]
  },
  {
   "cell_type": "markdown",
   "metadata": {},
   "source": [
    "### Assigning topics and coefficients to videos"
   ]
  },
  {
   "cell_type": "code",
   "execution_count": 24,
   "metadata": {},
   "outputs": [],
   "source": [
    "df_videos_cleaned_v10 = topic_assignment(df_videos_cleaned_v9)"
   ]
  },
  {
   "cell_type": "code",
   "execution_count": 25,
   "metadata": {},
   "outputs": [
    {
     "data": {
      "text/plain": [
       "Value Investing                       745\n",
       "Dividend Investing                    212\n",
       "Technology Stocks                     173\n",
       "Economic Moats                        129\n",
       "Passive Investing                     121\n",
       "Valuation                             113\n",
       "Fundamental vs. Technical Analysis    112\n",
       "Electric Vehicle Stocks                84\n",
       "Valuation (Case Studies)               64\n",
       "General                                25\n",
       "Name: Topic, dtype: int64"
      ]
     },
     "execution_count": 25,
     "metadata": {},
     "output_type": "execute_result"
    }
   ],
   "source": [
    "df_videos_cleaned_v10['Topic'].value_counts()"
   ]
  },
  {
   "cell_type": "markdown",
   "metadata": {},
   "source": [
    "### Reassigning topics for videos under 'Value Investing'"
   ]
  },
  {
   "cell_type": "code",
   "execution_count": 26,
   "metadata": {},
   "outputs": [],
   "source": [
    "df_videos_cleaned_v10_value = df_videos_cleaned_v10[df_videos_cleaned_v10['Topic']=='Value Investing'].sort_values('Topic Coefficient')\n",
    "df_videos_cleaned_v10_other = df_videos_cleaned_v10[df_videos_cleaned_v10['Topic']!='Value Investing']"
   ]
  },
  {
   "cell_type": "code",
   "execution_count": 27,
   "metadata": {
    "jupyter": {
     "source_hidden": true
    }
   },
   "outputs": [],
   "source": [
    "df_videos_cleaned_v10_value.loc[1355, 'Topic'] = 'Long-term Investing'\n",
    "df_videos_cleaned_v10_value.loc[94, 'Topic'] = 'Fundamental vs. Technical Analysis'\n",
    "df_videos_cleaned_v10_value.loc[86, 'Topic'] = 'General'\n",
    "df_videos_cleaned_v10_value.loc[187, 'Topic'] = 'General'\n",
    "df_videos_cleaned_v10_value.loc[1458, 'Topic'] = 'Growth Investing vs. Value Investing'\n",
    "df_videos_cleaned_v10_value.loc[1408, 'Topic'] = 'General'\n",
    "df_videos_cleaned_v10_value.loc[669, 'Topic'] = 'Valuation'\n",
    "df_videos_cleaned_v10_value.loc[1632, 'Topic'] = 'Dividend Investing'\n",
    "df_videos_cleaned_v10_value.loc[1557, 'Topic'] = 'Growth Investing vs. Value Investing'\n",
    "df_videos_cleaned_v10_value.loc[1207, 'Topic'] = 'Long-term Investing'\n",
    "df_videos_cleaned_v10_value.loc[348, 'Topic'] = 'General'\n",
    "df_videos_cleaned_v10_value.loc[1556, 'Topic'] = 'Growth Investing vs. Value Investing'\n",
    "df_videos_cleaned_v10_value.loc[98, 'Topic'] = 'General'\n",
    "df_videos_cleaned_v10_value.loc[1641, 'Topic'] = 'Long-term Investing'\n",
    "df_videos_cleaned_v10_value.loc[1328, 'Topic'] = 'Long-term Investing'\n",
    "df_videos_cleaned_v10_value.loc[152, 'Topic'] = 'General'\n",
    "df_videos_cleaned_v10_value.loc[1363, 'Topic'] = 'Long-term Investing'\n",
    "df_videos_cleaned_v10_value.loc[242, 'Topic'] = 'Economic Moats'\n",
    "df_videos_cleaned_v10_value.loc[752, 'Topic'] = 'Valuation'\n",
    "df_videos_cleaned_v10_value.loc[1204, 'Topic'] = 'General'\n",
    "df_videos_cleaned_v10_value.loc[1333, 'Topic'] = 'Long-term Investing'\n",
    "df_videos_cleaned_v10_value.loc[1537, 'Topic'] = 'Growth Investing vs. Value Investing'\n",
    "df_videos_cleaned_v10_value.loc[1693, 'Topic'] = 'Growth Investing vs. Value Investing'\n",
    "df_videos_cleaned_v10_value.loc[374, 'Topic'] = 'General'\n",
    "df_videos_cleaned_v10_value.loc[1360, 'Topic'] = 'Long-term Investing'\n",
    "df_videos_cleaned_v10_value.loc[1189, 'Topic'] = 'Long-term Investing'\n",
    "df_videos_cleaned_v10_value.loc[448, 'Topic'] = 'Valuation'\n",
    "df_videos_cleaned_v10_value.loc[931, 'Topic'] = 'Passive Investing'\n",
    "df_videos_cleaned_v10_value.loc[1253, 'Topic'] = 'General'\n",
    "df_videos_cleaned_v10_value.loc[1340, 'Topic'] = 'Long-term Investing'\n",
    "df_videos_cleaned_v10_value.loc[834, 'Topic'] = 'Growth Investing vs. Value Investing'\n",
    "df_videos_cleaned_v10_value.loc[1496, 'Topic'] = 'Dividend Investing'\n",
    "df_videos_cleaned_v10_value.loc[1704, 'Topic'] = 'Growth Investing vs. Value Investing'\n",
    "df_videos_cleaned_v10_value.loc[1414, 'Topic'] = 'Growth Investing vs. Value Investing'\n",
    "df_videos_cleaned_v10_value.loc[709, 'Topic'] = 'Valuation'\n",
    "df_videos_cleaned_v10_value.loc[575, 'Topic'] = 'Valuation'\n",
    "df_videos_cleaned_v10_value.loc[1358, 'Topic'] = 'Long-term Investing'\n",
    "df_videos_cleaned_v10_value.loc[1361, 'Topic'] = 'General'\n",
    "df_videos_cleaned_v10_value.loc[1771, 'Topic'] = 'Dividend Investing'\n",
    "df_videos_cleaned_v10_value.loc[1523, 'Topic'] = 'Growth Investing vs. Value Investing'\n",
    "df_videos_cleaned_v10_value.loc[300, 'Topic'] = 'Economic Moats'\n",
    "df_videos_cleaned_v10_value.loc[948, 'Topic'] = 'Dividend Investing'\n",
    "df_videos_cleaned_v10_value.loc[1137, 'Topic'] = 'Long-term Investing'\n",
    "df_videos_cleaned_v10_value.loc[1498, 'Topic'] = 'Growth Investing vs. Value Investing'\n",
    "df_videos_cleaned_v10_value.loc[1143, 'Topic'] = 'General'\n",
    "df_videos_cleaned_v10_value.loc[1133, 'Topic'] = 'General'\n",
    "df_videos_cleaned_v10_value.loc[298, 'Topic'] = 'Long-term Investing'\n",
    "df_videos_cleaned_v10_value.loc[703, 'Topic'] = 'Valuation'\n",
    "df_videos_cleaned_v10_value.loc[699, 'Topic'] = 'General'\n",
    "df_videos_cleaned_v10_value.loc[1590, 'Topic'] = 'Dividend Investing'\n",
    "df_videos_cleaned_v10_value.loc[1224, 'Topic'] = 'Long-term Investing'\n",
    "df_videos_cleaned_v10_value.loc[1173, 'Topic'] = 'Long-term Investing'\n",
    "df_videos_cleaned_v10_value.loc[1158, 'Topic'] = 'General'\n",
    "df_videos_cleaned_v10_value.loc[278, 'Topic'] = 'Economic Moats'\n",
    "df_videos_cleaned_v10_value.loc[33, 'Topic'] = 'General'\n",
    "df_videos_cleaned_v10_value.loc[1402, 'Topic'] = 'Growth Investing vs. Value Investing'\n",
    "df_videos_cleaned_v10_value.loc[1263, 'Topic'] = 'Long-term Investing'\n",
    "df_videos_cleaned_v10_value.loc[1171, 'Topic'] = 'General'\n",
    "df_videos_cleaned_v10_value.loc[1735, 'Topic'] = 'General'\t\n",
    "df_videos_cleaned_v10_value.loc[1591, 'Topic'] = 'Growth Investing vs. Value Investing'\n",
    "df_videos_cleaned_v10_value.loc[1260, 'Topic'] = 'General'\t\n",
    "df_videos_cleaned_v10_value.loc[1293, 'Topic'] = 'Long-term Investing'\n",
    "df_videos_cleaned_v10_value.loc[1149, 'Topic'] = 'General'\t\n",
    "df_videos_cleaned_v10_value.loc[1261, 'Topic'] = 'Long-term Investing'\n",
    "df_videos_cleaned_v10_value.loc[113, 'Topic'] = 'Growth Investing vs. Value Investing'\n",
    "df_videos_cleaned_v10_value.loc[1443, 'Topic'] = 'Dividend Investing'\n",
    "df_videos_cleaned_v10_value.loc[743, 'Topic'] = 'General'\t\t\n",
    "df_videos_cleaned_v10_value.loc[1255, 'Topic'] = 'Long-term Investing'\n",
    "df_videos_cleaned_v10_value.loc[1487, 'Topic'] = 'Growth Investing vs. Value Investing'\n",
    "df_videos_cleaned_v10_value.loc[246, 'Topic'] = 'Economic Moats'\n",
    "df_videos_cleaned_v10_value.loc[1284, 'Topic'] = 'General'\n",
    "df_videos_cleaned_v10_value.loc[1296, 'Topic'] = 'Long-term Investing'\n",
    "df_videos_cleaned_v10_value.loc[1225, 'Topic'] = 'Long-term Investing'\n",
    "df_videos_cleaned_v10_value.loc[1001, 'Topic'] = 'Growth Investing vs. Value Investing'\n",
    "df_videos_cleaned_v10_value.loc[1509, 'Topic'] = 'Growth Investing vs. Value Investing'\n",
    "df_videos_cleaned_v10_value.loc[1609, 'Topic'] = 'Dividend Investing'\n",
    "df_videos_cleaned_v10_value.loc[1140, 'Topic'] = 'Long-term Investing'\n",
    "df_videos_cleaned_v10_value.loc[1645, 'Topic'] = 'General'\n",
    "df_videos_cleaned_v10_value.loc[538, 'Topic'] = 'Technology Stocks'\n",
    "df_videos_cleaned_v10_value.loc[1649, 'Topic'] = 'Growth Investing vs. Value Investing'\t\n",
    "df_videos_cleaned_v10_value.loc[1411, 'Topic'] = 'Dividend Investing'\n",
    "df_videos_cleaned_v10_value.loc[1447, 'Topic'] = 'Dividend Investing'\n",
    "df_videos_cleaned_v10_value.loc[859, 'Topic'] = 'Growth Investing vs. Value Investing'\n",
    "df_videos_cleaned_v10_value.loc[1736, 'Topic'] = 'Dividend Investing'\n",
    "df_videos_cleaned_v10_value.loc[760, 'Topic'] = 'Growth Investing vs. Value Investing'\n",
    "df_videos_cleaned_v10_value.loc[1492, 'Topic'] = 'Growth Investing vs. Value Investing'\n",
    "df_videos_cleaned_v10_value.loc[1091, 'Topic'] = 'Long-term Investing'\n",
    "df_videos_cleaned_v10_value.loc[1708, 'Topic'] = 'Dividend Investing'\n",
    "df_videos_cleaned_v10_value.loc[1516, 'Topic'] = 'Growth Investing vs. Value Investing'\n",
    "df_videos_cleaned_v10_value.loc[1089, 'Topic'] = 'Long-term Investing'\n",
    "df_videos_cleaned_v10_value.loc[1407, 'Topic'] = 'Growth Investing vs. Value Investing'\n",
    "df_videos_cleaned_v10_value.loc[1130, 'Topic'] = 'Long-term Investing'\n",
    "df_videos_cleaned_v10_value.loc[161, 'Topic'] = 'General'\n",
    "df_videos_cleaned_v10_value.loc[1103, 'Topic'] = 'Long-term Investing'\n",
    "df_videos_cleaned_v10_value.loc[1262, 'Topic'] = 'Long-term Investing'\n",
    "df_videos_cleaned_v10_value.loc[386, 'Topic'] = 'General'\n",
    "df_videos_cleaned_v10_value.loc[454, 'Topic'] = 'Valuation'\n",
    "df_videos_cleaned_v10_value.loc[245, 'Topic'] = 'Economic Moats'\n",
    "df_videos_cleaned_v10_value.loc[1629, 'Topic'] = 'General'\n",
    "df_videos_cleaned_v10_value.loc[510, 'Topic'] = 'General'\n",
    "df_videos_cleaned_v10_value.loc[1714, 'Topic'] = 'General'\n",
    "df_videos_cleaned_v10_value.loc[119, 'Topic'] = 'General'\n",
    "df_videos_cleaned_v10_value.loc[188, 'Topic'] = 'General'\n",
    "df_videos_cleaned_v10_value.loc[433, 'Topic'] = 'General'\n",
    "df_videos_cleaned_v10_value.loc[1305, 'Topic'] = 'Long-term Investing'\n",
    "df_videos_cleaned_v10_value.loc[1203, 'Topic'] = 'General'\n",
    "df_videos_cleaned_v10_value.loc[1362, 'Topic'] = 'General'\n",
    "df_videos_cleaned_v10_value.loc[620, 'Topic'] = 'General'\n",
    "df_videos_cleaned_v10_value.loc[1486, 'Topic'] = 'Dividend Investing'\n",
    "df_videos_cleaned_v10_value.loc[1503, 'Topic'] = 'Dividend Investing'\n",
    "df_videos_cleaned_v10_value.loc[1327, 'Topic'] = 'Long-term Investing'\n",
    "df_videos_cleaned_v10_value.loc[1353, 'Topic'] = 'Long-term Investing'\n",
    "df_videos_cleaned_v10_value.loc[1269, 'Topic'] = 'Long-term Investing'\n",
    "df_videos_cleaned_v10_value.loc[104, 'Topic'] = 'Fundamental vs. Technical Analysis'\n",
    "df_videos_cleaned_v10_value.loc[1178, 'Topic'] = 'Long-term Investing'\n",
    "df_videos_cleaned_v10_value.loc[1064, 'Topic'] = 'Growth Investing vs. Value Investing'\n",
    "df_videos_cleaned_v10_value.loc[482, 'Topic'] = 'Valuation'\n",
    "df_videos_cleaned_v10_value.loc[829, 'Topic'] = 'Growth Investing vs. Value Investing'\n",
    "df_videos_cleaned_v10_value.loc[1671, 'Topic'] = 'General'\n",
    "df_videos_cleaned_v10_value.loc[1309, 'Topic'] = 'Long-term Investing'\n",
    "df_videos_cleaned_v10_value.loc[38, 'Topic'] = 'General'\n",
    "df_videos_cleaned_v10_value.loc[1734, 'Topic'] = 'General'\n",
    "df_videos_cleaned_v10_value.loc[1304, 'Topic'] = 'Long-term Investing'\n",
    "df_videos_cleaned_v10_value.loc[1250, 'Topic'] = 'General'\n",
    "df_videos_cleaned_v10_value.loc[1628, 'Topic'] = 'Growth Investing vs. Value Investing'\n",
    "df_videos_cleaned_v10_value.loc[151, 'Topic'] = 'General'\n",
    "df_videos_cleaned_v10_value.loc[792, 'Topic'] = 'General'\n",
    "df_videos_cleaned_v10_value.loc[1676, 'Topic'] = 'General'\n",
    "df_videos_cleaned_v10_value.loc[1664, 'Topic'] = 'Dividend Investing'\n",
    "df_videos_cleaned_v10_value.loc[1697, 'Topic'] = 'General'\n",
    "df_videos_cleaned_v10_value.loc[860, 'Topic'] = 'Growth Investing vs. Value Investing'\n",
    "df_videos_cleaned_v10_value.loc[1742, 'Topic'] = 'General'\n",
    "df_videos_cleaned_v10_value.loc[1182, 'Topic'] = 'General'\n",
    "df_videos_cleaned_v10_value.loc[180, 'Topic'] = 'General'\n",
    "df_videos_cleaned_v10_value.loc[1570, 'Topic'] = 'Growth Investing vs. Value Investing'\n",
    "df_videos_cleaned_v10_value.loc[1315, 'Topic'] = 'Long-term Investing'\n",
    "df_videos_cleaned_v10_value.loc[1663, 'Topic'] = 'General'\n",
    "df_videos_cleaned_v10_value.loc[1597, 'Topic'] = 'Growth Investing vs. Value Investing'\n",
    "df_videos_cleaned_v10_value.loc[1344, 'Topic'] = 'Long-term Investing'\n",
    "df_videos_cleaned_v10_value.loc[1698, 'Topic'] = 'Dividend Investing'\n",
    "df_videos_cleaned_v10_value.loc[655, 'Topic'] = 'Valuation'\n",
    "df_videos_cleaned_v10_value.loc[1462, 'Topic'] = 'General'\n",
    "df_videos_cleaned_v10_value.loc[1251, 'Topic'] = 'General'\n",
    "df_videos_cleaned_v10_value.loc[637, 'Topic'] = 'Dividend Investing'\n",
    "df_videos_cleaned_v10_value.loc[1110, 'Topic'] = 'Long-term Investing'\n",
    "df_videos_cleaned_v10_value.loc[1210, 'Topic'] = 'General'\n",
    "df_videos_cleaned_v10_value.loc[651, 'Topic'] = 'General'\n",
    "df_videos_cleaned_v10_value.loc[594, 'Topic'] = 'Valuation'\n",
    "df_videos_cleaned_v10_value.loc[144, 'Topic'] = 'General'\n",
    "df_videos_cleaned_v10_value.loc[1345, 'Topic'] = 'Long-term Investing'\n",
    "df_videos_cleaned_v10_value.loc[342, 'Topic'] = 'General'\n",
    "df_videos_cleaned_v10_value.loc[1386, 'Topic'] = 'Growth Investing vs. Value Investing'\n",
    "df_videos_cleaned_v10_value.loc[1655, 'Topic'] = 'General'\n",
    "df_videos_cleaned_v10_value.loc[1283, 'Topic'] = 'Long-term Investing'\n",
    "df_videos_cleaned_v10_value.loc[1167, 'Topic'] = 'Long-term Investing'\n",
    "df_videos_cleaned_v10_value.loc[1380, 'Topic'] = 'Dividend Investing'\n",
    "df_videos_cleaned_v10_value.loc[1438, 'Topic'] = 'Long-term Investing'\n",
    "df_videos_cleaned_v10_value.loc[721, 'Topic'] = 'General'\n",
    "df_videos_cleaned_v10_value.loc[624, 'Topic'] = 'Valuation'\n",
    "df_videos_cleaned_v10_value.loc[194, 'Topic'] = 'General'\n",
    "df_videos_cleaned_v10_value.loc[1400, 'Topic'] = 'Dividend Investing'\n",
    "df_videos_cleaned_v10_value.loc[78, 'Topic'] = 'General'\n",
    "df_videos_cleaned_v10_value.loc[1272, 'Topic'] = 'Long-term Investing'\n",
    "df_videos_cleaned_v10_value.loc[1433, 'Topic'] = 'General'\n",
    "df_videos_cleaned_v10_value.loc[1222, 'Topic'] = 'Long-term Investing'\n",
    "df_videos_cleaned_v10_value.loc[1702, 'Topic'] = 'General'\n",
    "df_videos_cleaned_v10_value.loc[1519, 'Topic'] = 'Dividend Investing'\n",
    "df_videos_cleaned_v10_value.loc[1493, 'Topic'] = 'General'\n",
    "df_videos_cleaned_v10_value.loc[840, 'Topic'] = 'Growth Investing vs. Value Investing'\n",
    "df_videos_cleaned_v10_value.loc[1245, 'Topic'] = 'Long-term Investing'\n",
    "df_videos_cleaned_v10_value.loc[1773, 'Topic'] = 'General'\n",
    "df_videos_cleaned_v10_value.loc[677, 'Topic'] = 'Valuation'\n",
    "df_videos_cleaned_v10_value.loc[1478, 'Topic'] = 'Dividend Investing'\n",
    "df_videos_cleaned_v10_value.loc[1555, 'Topic'] = 'General'\n",
    "df_videos_cleaned_v10_value.loc[1578, 'Topic'] = 'Growth Investing vs. Value Investing'\n",
    "df_videos_cleaned_v10_value.loc[16, 'Topic'] = 'General'\n",
    "df_videos_cleaned_v10_value.loc[1376, 'Topic'] = 'Growth Investing vs. Value Investing'\n",
    "df_videos_cleaned_v10_value.loc[1067, 'Topic'] = 'General'\n",
    "df_videos_cleaned_v10_value.loc[1385, 'Topic'] = 'General'\n",
    "df_videos_cleaned_v10_value.loc[1403, 'Topic'] = 'Dividend Investing'\n",
    "df_videos_cleaned_v10_value.loc[1618, 'Topic'] = 'Growth Investing vs. Value Investing'\n",
    "df_videos_cleaned_v10_value.loc[1256, 'Topic'] = 'Long-term Investing'\n",
    "df_videos_cleaned_v10_value.loc[500, 'Topic'] = 'Valuation'\n",
    "df_videos_cleaned_v10_value.loc[1330, 'Topic'] = 'Long-term Investing'\n",
    "df_videos_cleaned_v10_value.loc[92, 'Topic'] = 'General'\n",
    "df_videos_cleaned_v10_value.loc[365, 'Topic'] = 'Economic Moats'\n",
    "df_videos_cleaned_v10_value.loc[128, 'Topic'] = 'General'\n",
    "df_videos_cleaned_v10_value.loc[1357, 'Topic'] = 'Long-term Investing'\n",
    "df_videos_cleaned_v10_value.loc[1048, 'Topic'] = 'Growth Investing vs. Value Investing'\n",
    "df_videos_cleaned_v10_value.loc[1220, 'Topic'] = 'General'\n",
    "df_videos_cleaned_v10_value.loc[1405, 'Topic'] = 'General'\n",
    "df_videos_cleaned_v10_value.loc[1217, 'Topic'] = 'General'\n",
    "df_videos_cleaned_v10_value.loc[1470, 'Topic'] = 'General'\n",
    "df_videos_cleaned_v10_value.loc[782, 'Topic'] = 'Growth Investing vs. Value Investing'\n",
    "df_videos_cleaned_v10_value.loc[1104, 'Topic'] = 'Long-term Investing'\n",
    "df_videos_cleaned_v10_value.loc[937, 'Topic'] = 'General'\n",
    "df_videos_cleaned_v10_value.loc[1518, 'Topic'] = 'Growth Investing vs. Value Investing'\n",
    "df_videos_cleaned_v10_value.loc[1653, 'Topic'] = 'General'\n",
    "df_videos_cleaned_v10_value.loc[711, 'Topic'] = 'Valuation'\n",
    "df_videos_cleaned_v10_value.loc[823, 'Topic'] = 'General'\n",
    "df_videos_cleaned_v10_value.loc[1482, 'Topic'] = 'Dividend Investing'\n",
    "df_videos_cleaned_v10_value.loc[1636, 'Topic'] = 'General'\n",
    "df_videos_cleaned_v10_value.loc[563, 'Topic'] = 'General'\n",
    "df_videos_cleaned_v10_value.loc[1359, 'Topic'] = 'General'\n",
    "df_videos_cleaned_v10_value.loc[405, 'Topic'] = 'Valuation'\n",
    "df_videos_cleaned_v10_value.loc[1352, 'Topic'] = 'Long-term Investing'\n",
    "df_videos_cleaned_v10_value.loc[1368, 'Topic'] = 'General'\n",
    "df_videos_cleaned_v10_value.loc[1025, 'Topic'] = 'General'\n",
    "df_videos_cleaned_v10_value.loc[642, 'Topic'] = 'General'\n",
    "df_videos_cleaned_v10_value.loc[1175, 'Topic'] = 'General'\n",
    "df_videos_cleaned_v10_value.loc[1019, 'Topic'] = 'General'\n",
    "df_videos_cleaned_v10_value.loc[621, 'Topic'] = 'General'\n",
    "df_videos_cleaned_v10_value.loc[1148, 'Topic'] = 'General'\n",
    "df_videos_cleaned_v10_value.loc[35, 'Topic'] = 'General'\n",
    "df_videos_cleaned_v10_value.loc[1145, 'Topic'] = 'General'\n",
    "df_videos_cleaned_v10_value.loc[1725, 'Topic'] = 'Growth Investing vs. Value Investing'\n",
    "df_videos_cleaned_v10_value.loc[1322, 'Topic'] = 'Long-term Investing'\n",
    "df_videos_cleaned_v10_value.loc[1320, 'Topic'] = 'Dividend Investing'\n",
    "df_videos_cleaned_v10_value.loc[1543, 'Topic'] = 'Dividend Investing'\n",
    "df_videos_cleaned_v10_value.loc[558, 'Topic'] = 'General'\n",
    "df_videos_cleaned_v10_value.loc[1206, 'Topic'] = 'General'\n",
    "df_videos_cleaned_v10_value.loc[1192, 'Topic'] = 'Long-term Investing'\n",
    "df_videos_cleaned_v10_value.loc[11, 'Topic'] = 'Fundamental vs. Technical Analysis'\n",
    "df_videos_cleaned_v10_value.loc[1208, 'Topic'] = 'Passive Investing'\n",
    "df_videos_cleaned_v10_value.loc[670, 'Topic'] = 'Valuation'\n",
    "df_videos_cleaned_v10_value.loc[1567, 'Topic'] = 'Dividend Investing'\n",
    "df_videos_cleaned_v10_value.loc[1152, 'Topic'] = 'General'\n",
    "df_videos_cleaned_v10_value.loc[632, 'Topic'] = 'General'\n",
    "df_videos_cleaned_v10_value.loc[855, 'Topic'] = 'General'\n",
    "df_videos_cleaned_v10_value.loc[1332, 'Topic'] = 'General'\n",
    "df_videos_cleaned_v10_value.loc[1168, 'Topic'] = 'General'\n",
    "df_videos_cleaned_v10_value.loc[557, 'Topic'] = 'General'\n",
    "df_videos_cleaned_v10_value.loc[578, 'Topic'] = 'Valuation'\n",
    "df_videos_cleaned_v10_value.loc[808, 'Topic'] = 'General'\n",
    "df_videos_cleaned_v10_value.loc[1592, 'Topic'] = 'General'\n",
    "df_videos_cleaned_v10_value.loc[1476, 'Topic'] = 'Dividend Investing'\n",
    "df_videos_cleaned_v10_value.loc[63, 'Topic'] = 'General'\n",
    "df_videos_cleaned_v10_value.loc[388, 'Topic'] = 'Valuation'\n",
    "df_videos_cleaned_v10_value.loc[1141, 'Topic'] = 'General'\n",
    "df_videos_cleaned_v10_value.loc[571, 'Topic'] = 'Valuation'\n",
    "df_videos_cleaned_v10_value.loc[1098, 'Topic'] = 'Long-term Investing'\n",
    "df_videos_cleaned_v10_value.loc[911, 'Topic'] = 'General'\n",
    "df_videos_cleaned_v10_value.loc[399, 'Topic'] = 'General'\n",
    "df_videos_cleaned_v10_value.loc[1688, 'Topic'] = 'Dividend Investing'\n",
    "df_videos_cleaned_v10_value.loc[124, 'Topic'] = 'General'\n",
    "df_videos_cleaned_v10_value.loc[3, 'Topic'] = 'General'\n",
    "df_videos_cleaned_v10_value.loc[1457, 'Topic'] = 'General'\n",
    "df_videos_cleaned_v10_value.loc[1187, 'Topic'] = 'General'\n",
    "df_videos_cleaned_v10_value.loc[1489, 'Topic'] = 'Dividend Investing'\n",
    "df_videos_cleaned_v10_value.loc[1370, 'Topic'] = 'Dividend Investing'\n",
    "df_videos_cleaned_v10_value.loc[22, 'Topic'] = 'General'\n",
    "df_videos_cleaned_v10_value.loc[1471, 'Topic'] = 'Dividend Investing'\n",
    "df_videos_cleaned_v10_value.loc[411, 'Topic'] = 'Valuation'\n",
    "df_videos_cleaned_v10_value.loc[1242, 'Topic'] = 'Long-term Investing'\n",
    "df_videos_cleaned_v10_value.loc[1233, 'Topic'] = 'General'\n",
    "df_videos_cleaned_v10_value.loc[1216, 'Topic'] = 'Long-term Investing'\n",
    "df_videos_cleaned_v10_value.loc[857, 'Topic'] = 'General'\n",
    "df_videos_cleaned_v10_value.loc[746, 'Topic'] = 'Valuation'\n",
    "df_videos_cleaned_v10_value.loc[1546, 'Topic'] = 'Dividend Investing'\n",
    "df_videos_cleaned_v10_value.loc[1169, 'Topic'] = 'Long-term Investing'\n",
    "df_videos_cleaned_v10_value.loc[1768, 'Topic'] = 'General'\n",
    "df_videos_cleaned_v10_value.loc[1406, 'Topic'] = 'Growth Investing vs. Value Investing'\n",
    "df_videos_cleaned_v10_value.loc[1230, 'Topic'] = 'General'\n",
    "df_videos_cleaned_v10_value.loc[1096, 'Topic'] = 'General'\n",
    "df_videos_cleaned_v10_value.loc[997, 'Topic'] = 'General'\n",
    "df_videos_cleaned_v10_value.loc[1097, 'Topic'] = 'General'\n",
    "df_videos_cleaned_v10_value.loc[1679, 'Topic'] = 'Dividend Investing'\n",
    "df_videos_cleaned_v10_value.loc[652, 'Topic'] = 'Valuation'\n",
    "df_videos_cleaned_v10_value.loc[679, 'Topic'] = 'General'\n",
    "df_videos_cleaned_v10_value.loc[657, 'Topic'] = 'General'\n",
    "df_videos_cleaned_v10_value.loc[1114, 'Topic'] = 'Long-term Investing'\n",
    "df_videos_cleaned_v10_value.loc[1228, 'Topic'] = 'General'\n",
    "df_videos_cleaned_v10_value.loc[1277, 'Topic'] = 'Passive Investing'\n",
    "df_videos_cleaned_v10_value.loc[1279, 'Topic'] = 'General'\n",
    "df_videos_cleaned_v10_value.loc[706, 'Topic'] = 'General'\n",
    "df_videos_cleaned_v10_value.loc[1379, 'Topic'] = 'Growth Investing vs. Value Investing'\n",
    "df_videos_cleaned_v10_value.loc[896, 'Topic'] = 'Growth Investing vs. Value Investing'\n",
    "df_videos_cleaned_v10_value.loc[1435, 'Topic'] = 'General'\n",
    "df_videos_cleaned_v10_value.loc[1445, 'Topic'] = 'Growth Investing vs. Value Investing'\n",
    "df_videos_cleaned_v10_value.loc[1659, 'Topic'] = 'General'\n",
    "df_videos_cleaned_v10_value.loc[1246, 'Topic'] = 'General'\n",
    "df_videos_cleaned_v10_value.loc[1425, 'Topic'] = 'Growth Investing vs. Value Investing'\n",
    "df_videos_cleaned_v10_value.loc[1755, 'Topic'] = 'General'\n",
    "df_videos_cleaned_v10_value.loc[959, 'Topic'] = 'General'\n",
    "df_videos_cleaned_v10_value.loc[1350, 'Topic'] = 'Long-term Investing'\n",
    "df_videos_cleaned_v10_value.loc[1086, 'Topic'] = 'Long-term Investing'\n",
    "df_videos_cleaned_v10_value.loc[1701, 'Topic'] = 'Dividend Investing'\n",
    "df_videos_cleaned_v10_value.loc[1620, 'Topic'] = 'Growth Investing vs. Value Investing'\n",
    "df_videos_cleaned_v10_value.loc[1313, 'Topic'] = 'General'\n",
    "df_videos_cleaned_v10_value.loc[1568, 'Topic'] = 'General'\n",
    "df_videos_cleaned_v10_value.loc[1505, 'Topic'] = 'Dividend Investing'\n",
    "df_videos_cleaned_v10_value.loc[906, 'Topic'] = 'General'\n",
    "df_videos_cleaned_v10_value.loc[1005, 'Topic'] = 'General'\n",
    "df_videos_cleaned_v10_value.loc[19, 'Topic'] = 'General'\n",
    "df_videos_cleaned_v10_value.loc[1711, 'Topic'] = 'Technology Stocks'\n",
    "df_videos_cleaned_v10_value.loc[1365, 'Topic'] = 'General'\n",
    "df_videos_cleaned_v10_value.loc[1087, 'Topic'] = 'General'\n",
    "df_videos_cleaned_v10_value.loc[441, 'Topic'] = 'Valuation'\n",
    "df_videos_cleaned_v10_value.loc[813, 'Topic'] = 'Growth Investing vs. Value Investing'\n",
    "df_videos_cleaned_v10_value.loc[282, 'Topic'] = 'Economic Moats'\n",
    "df_videos_cleaned_v10_value.loc[375, 'Topic'] = 'General'\n",
    "df_videos_cleaned_v10_value.loc[785, 'Topic'] = 'General'\n",
    "df_videos_cleaned_v10_value.loc[1440, 'Topic'] = 'Dividend Investing'\n",
    "df_videos_cleaned_v10_value.loc[64, 'Topic'] = 'General'\n",
    "df_videos_cleaned_v10_value.loc[1517, 'Topic'] = 'Dividend Investing'\n",
    "df_videos_cleaned_v10_value.loc[905, 'Topic'] = 'General'\n",
    "df_videos_cleaned_v10_value.loc[1095, 'Topic'] = 'Long-term Investing'\n",
    "df_videos_cleaned_v10_value.loc[52, 'Topic'] = 'General'\n",
    "df_videos_cleaned_v10_value.loc[1683, 'Topic'] = 'General'\n",
    "df_videos_cleaned_v10_value.loc[1637, 'Topic'] = 'General'\n",
    "df_videos_cleaned_v10_value.loc[47, 'Topic'] = 'General'\n",
    "df_videos_cleaned_v10_value.loc[1307, 'Topic'] = 'Long-term Investing'\n",
    "df_videos_cleaned_v10_value.loc[1477, 'Topic'] = 'Dividend Investing'\n",
    "df_videos_cleaned_v10_value.loc[826, 'Topic'] = 'General'\n",
    "df_videos_cleaned_v10_value.loc[781, 'Topic'] = 'Growth Investing vs. Value Investing'\n",
    "df_videos_cleaned_v10_value.loc[688, 'Topic'] = 'Valuation'\n",
    "df_videos_cleaned_v10_value.loc[1594, 'Topic'] = 'General'\n",
    "df_videos_cleaned_v10_value.loc[322, 'Topic'] = 'General'\n",
    "df_videos_cleaned_v10_value.loc[1311, 'Topic'] = 'General'\n",
    "df_videos_cleaned_v10_value.loc[55, 'Topic'] = 'General'\n",
    "df_videos_cleaned_v10_value.loc[381, 'Topic'] = 'Valuation'\n",
    "df_videos_cleaned_v10_value.loc[50, 'Topic'] = 'General'\n",
    "df_videos_cleaned_v10_value.loc[1491, 'Topic'] = 'General'\n",
    "df_videos_cleaned_v10_value.loc[1643, 'Topic'] = 'Dividend Investing'\n",
    "df_videos_cleaned_v10_value.loc[368, 'Topic'] = 'General'\n",
    "df_videos_cleaned_v10_value.loc[134, 'Topic'] = 'General'\n",
    "df_videos_cleaned_v10_value.loc[1274, 'Topic'] = 'General'\n",
    "df_videos_cleaned_v10_value.loc[680, 'Topic'] = 'Valuation'\n",
    "df_videos_cleaned_v10_value.loc[501, 'Topic'] = 'Valuation'\n",
    "df_videos_cleaned_v10_value.loc[117, 'Topic'] = 'General'\n",
    "df_videos_cleaned_v10_value.loc[1598, 'Topic'] = 'General'\n",
    "df_videos_cleaned_v10_value.loc[932, 'Topic'] = 'General'\n",
    "df_videos_cleaned_v10_value.loc[536, 'Topic'] = 'Valuation'\n",
    "df_videos_cleaned_v10_value.loc[1069, 'Topic'] = 'General'\n",
    "df_videos_cleaned_v10_value.loc[1212, 'Topic'] = 'Long-term Investing'\n",
    "df_videos_cleaned_v10_value.loc[415, 'Topic'] = 'General'\n",
    "df_videos_cleaned_v10_value.loc[82, 'Topic'] = 'General'\n",
    "df_videos_cleaned_v10_value.loc[497, 'Topic'] = 'Valuation'\n",
    "df_videos_cleaned_v10_value.loc[1180, 'Topic'] = 'Long-term Investing'\n",
    "df_videos_cleaned_v10_value.loc[1510, 'Topic'] = 'Growth Investing vs. Value Investing'\n",
    "df_videos_cleaned_v10_value.loc[56, 'Topic'] = 'General'\n",
    "df_videos_cleaned_v10_value.loc[1371, 'Topic'] = 'Dividend Investing'\n",
    "df_videos_cleaned_v10_value.loc[466, 'Topic'] = 'Valuation'\n",
    "df_videos_cleaned_v10_value.loc[992, 'Topic'] = 'Growth Investing vs. Value Investing'\n",
    "df_videos_cleaned_v10_value.loc[609, 'Topic'] = 'General'\n",
    "df_videos_cleaned_v10_value.loc[1113, 'Topic'] = 'Long-term Investing'\n",
    "df_videos_cleaned_v10_value.loc[129, 'Topic'] = 'General'\n",
    "df_videos_cleaned_v10_value.loc[1613, 'Topic'] = 'General'\n",
    "df_videos_cleaned_v10_value.loc[1488, 'Topic'] = 'Growth Investing vs. Value Investing'\n",
    "df_videos_cleaned_v10_value.loc[1286, 'Topic'] = 'General'\n",
    "df_videos_cleaned_v10_value.loc[1538, 'Topic'] = 'General'\n",
    "df_videos_cleaned_v10_value.loc[1575, 'Topic'] = 'Growth Investing vs. Value Investing'\n",
    "df_videos_cleaned_v10_value.loc[1348, 'Topic'] = 'General'\n",
    "df_videos_cleaned_v10_value.loc[1640, 'Topic'] = 'General'\n",
    "df_videos_cleaned_v10_value.loc[702, 'Topic'] = 'General'\n",
    "df_videos_cleaned_v10_value.loc[1155, 'Topic'] = 'General'\n",
    "df_videos_cleaned_v10_value.loc[1200, 'Topic'] = 'Long-term Investing'\n",
    "df_videos_cleaned_v10_value.loc[425, 'Topic'] = 'Valuation'\n",
    "df_videos_cleaned_v10_value.loc[589, 'Topic'] = 'Valuation'\n",
    "df_videos_cleaned_v10_value.loc[1661, 'Topic'] = 'Growth Investing vs. Value Investing'\n",
    "df_videos_cleaned_v10_value.loc[14, 'Topic'] = 'General'\n",
    "df_videos_cleaned_v10_value.loc[1642, 'Topic'] = 'General'\n",
    "df_videos_cleaned_v10_value.loc[72, 'Topic'] = 'General'\n",
    "df_videos_cleaned_v10_value.loc[184, 'Topic'] = 'General'\n",
    "df_videos_cleaned_v10_value.loc[1524, 'Topic'] = 'General'\n",
    "df_videos_cleaned_v10_value.loc[1602, 'Topic'] = 'General'\n",
    "df_videos_cleaned_v10_value.loc[1115, 'Topic'] = 'General'\n",
    "df_videos_cleaned_v10_value.loc[147, 'Topic'] = 'General'\n",
    "df_videos_cleaned_v10_value.loc[684, 'Topic'] = 'Valuation'\n",
    "df_videos_cleaned_v10_value.loc[89, 'Topic'] = 'General'\n",
    "df_videos_cleaned_v10_value.loc[125, 'Topic'] = 'General'\n",
    "df_videos_cleaned_v10_value.loc[1213, 'Topic'] = 'Passive Investing'\n",
    "df_videos_cleaned_v10_value.loc[1300, 'Topic'] = 'General'\n",
    "df_videos_cleaned_v10_value.loc[613, 'Topic'] = 'General'\n",
    "df_videos_cleaned_v10_value.loc[449, 'Topic'] = 'General'\n",
    "df_videos_cleaned_v10_value.loc[692, 'Topic'] = 'Valuation'\n",
    "df_videos_cleaned_v10_value.loc[1194, 'Topic'] = 'General'\n",
    "df_videos_cleaned_v10_value.loc[382, 'Topic'] = 'General'\n",
    "df_videos_cleaned_v10_value.loc[1600, 'Topic'] = 'General'\n",
    "df_videos_cleaned_v10_value.loc[779, 'Topic'] = 'General'\n",
    "df_videos_cleaned_v10_value.loc[1231, 'Topic'] = 'Long-term Investing'\n",
    "df_videos_cleaned_v10_value.loc[1685, 'Topic'] = 'Dividend Investing'\n",
    "df_videos_cleaned_v10_value.loc[1127, 'Topic'] = 'Long-term Investing'\n",
    "df_videos_cleaned_v10_value.loc[549, 'Topic'] = 'Valuation'\n",
    "df_videos_cleaned_v10_value.loc[1119, 'Topic'] = 'Long-term Investing'\n",
    "df_videos_cleaned_v10_value.loc[641, 'Topic'] = 'General'\n",
    "df_videos_cleaned_v10_value.loc[1614, 'Topic'] = 'Growth Investing vs. Value Investing'\n",
    "df_videos_cleaned_v10_value.loc[8, 'Topic'] = 'Fundamental vs. Technical Analysis'\n",
    "df_videos_cleaned_v10_value.loc[211, 'Topic'] = 'Fundamental vs. Technical Analysis'\n",
    "df_videos_cleaned_v10_value.loc[193, 'Topic'] = 'General'\n",
    "df_videos_cleaned_v10_value.loc[1384, 'Topic'] = 'General'\n",
    "df_videos_cleaned_v10_value.loc[1772, 'Topic'] = 'General'\n",
    "df_videos_cleaned_v10_value.loc[439, 'Topic'] = 'Valuation'\n",
    "df_videos_cleaned_v10_value.loc[4, 'Topic'] = 'Fundamental vs. Technical Analysis'\n",
    "df_videos_cleaned_v10_value.loc[315, 'Topic'] = 'General'\n",
    "df_videos_cleaned_v10_value.loc[1044, 'Topic'] = 'General'\n",
    "df_videos_cleaned_v10_value.loc[385, 'Topic'] = 'General'\n",
    "df_videos_cleaned_v10_value.loc[66, 'Topic'] = 'General'\n",
    "df_videos_cleaned_v10_value.loc[1341, 'Topic'] = 'General'\n",
    "df_videos_cleaned_v10_value.loc[1480, 'Topic'] = 'Dividend Investing'\n",
    "df_videos_cleaned_v10_value.loc[451, 'Topic'] = 'General'\n",
    "df_videos_cleaned_v10_value.loc[980, 'Topic'] = 'Growth Investing vs. Value Investing'\n",
    "df_videos_cleaned_v10_value.loc[1270, 'Topic'] = 'Long-term Investing'\n",
    "df_videos_cleaned_v10_value.loc[1314, 'Topic'] = 'Long-term Investing'\n",
    "df_videos_cleaned_v10_value.loc[1448, 'Topic'] = 'Growth Investing vs. Value Investing'\n",
    "df_videos_cleaned_v10_value.loc[1101, 'Topic'] = 'Long-term Investing'\n",
    "df_videos_cleaned_v10_value.loc[1190, 'Topic'] = 'Passive Investing'\n",
    "df_videos_cleaned_v10_value.loc[1185, 'Topic'] = 'General'\n",
    "df_videos_cleaned_v10_value.loc[630, 'Topic'] = 'General'\n",
    "df_videos_cleaned_v10_value.loc[1616, 'Topic'] = 'Growth Investing vs. Value Investing'\n",
    "df_videos_cleaned_v10_value.loc[1239, 'Topic'] = 'Long-term Investing'\n",
    "df_videos_cleaned_v10_value.loc[1573, 'Topic'] = 'Dividend Investing'\n",
    "df_videos_cleaned_v10_value.loc[747, 'Topic'] = 'Valuation'\n",
    "df_videos_cleaned_v10_value.loc[192, 'Topic'] = 'General'\n",
    "df_videos_cleaned_v10_value.loc[1254, 'Topic'] = 'Long-term Investing'\n",
    "df_videos_cleaned_v10_value.loc[1677, 'Topic'] = 'General'\n",
    "df_videos_cleaned_v10_value.loc[734, 'Topic'] = 'Valuation'\n",
    "df_videos_cleaned_v10_value.loc[1566, 'Topic'] = 'Dividend Investing'\n",
    "df_videos_cleaned_v10_value.loc[481, 'Topic'] = 'Valuation'\n",
    "df_videos_cleaned_v10_value.loc[648, 'Topic'] = 'General'\n",
    "df_videos_cleaned_v10_value.loc[1757, 'Topic'] = 'Dividend Investing'\n",
    "df_videos_cleaned_v10_value.loc[745, 'Topic'] = 'Valuation'\n",
    "df_videos_cleaned_v10_value.loc[51, 'Topic'] = 'General'\n",
    "df_videos_cleaned_v10_value.loc[177, 'Topic'] = 'General'\n",
    "df_videos_cleaned_v10_value.loc[1081, 'Topic'] = 'Valuation'\n",
    "df_videos_cleaned_v10_value.loc[1499, 'Topic'] = 'General'\n",
    "df_videos_cleaned_v10_value.loc[1090, 'Topic'] = 'Long-term Investing'\n",
    "df_videos_cleaned_v10_value.loc[1021, 'Topic'] = 'General'\n",
    "df_videos_cleaned_v10_value.loc[537, 'Topic'] = 'Valuation'\n",
    "df_videos_cleaned_v10_value.loc[159, 'Topic'] = 'General'\n",
    "df_videos_cleaned_v10_value.loc[1770, 'Topic'] = 'General'\n",
    "df_videos_cleaned_v10_value.loc[1013, 'Topic'] = 'Growth Investing vs. Value Investing'\n",
    "df_videos_cleaned_v10_value.loc[708, 'Topic'] = 'Valuation'\n",
    "df_videos_cleaned_v10_value.loc[1297, 'Topic'] = 'General'\n",
    "df_videos_cleaned_v10_value.loc[9, 'Topic'] = 'Fundamental vs. Technical Analysis'\n",
    "df_videos_cleaned_v10_value.loc[12, 'Topic'] = 'General'\n",
    "df_videos_cleaned_v10_value.loc[250, 'Topic'] = 'Economic Moats'\n",
    "df_videos_cleaned_v10_value.loc[1581, 'Topic'] = 'Growth Investing vs. Value Investing'\n",
    "df_videos_cleaned_v10_value.loc[672, 'Topic'] = 'Valuation'\n",
    "df_videos_cleaned_v10_value.loc[650, 'Topic'] = 'Valuation'\n",
    "df_videos_cleaned_v10_value.loc[685, 'Topic'] = 'General'\n",
    "df_videos_cleaned_v10_value.loc[443, 'Topic'] = 'General'\n",
    "df_videos_cleaned_v10_value.loc[99, 'Topic'] = 'General'\n",
    "df_videos_cleaned_v10_value.loc[800, 'Topic'] = 'Growth Investing vs. Value Investing'\n",
    "df_videos_cleaned_v10_value.loc[1132, 'Topic'] = 'General'\n",
    "df_videos_cleaned_v10_value.loc[539, 'Topic'] = 'Valuation'\n",
    "df_videos_cleaned_v10_value.loc[567, 'Topic'] = 'Valuation'\n",
    "df_videos_cleaned_v10_value.loc[534, 'Topic'] = 'General'\n",
    "df_videos_cleaned_v10_value.loc[1290, 'Topic'] = 'General'\n",
    "df_videos_cleaned_v10_value.loc[635, 'Topic'] = 'General'\n",
    "df_videos_cleaned_v10_value.loc[1068, 'Topic'] = 'General'\n",
    "df_videos_cleaned_v10_value.loc[712, 'Topic'] = 'General'\n",
    "df_videos_cleaned_v10_value.loc[850, 'Topic'] = 'General'\n",
    "df_videos_cleaned_v10_value.loc[663, 'Topic'] = 'Valuation'\n",
    "df_videos_cleaned_v10_value.loc[640, 'Topic'] = 'General'\n",
    "df_videos_cleaned_v10_value.loc[173, 'Topic'] = 'General'\n",
    "df_videos_cleaned_v10_value.loc[102, 'Topic'] = 'Fundamental vs. Technical Analysis'\n",
    "df_videos_cleaned_v10_value.loc[141, 'Topic'] = 'Fundamental vs. Technical Analysis'\n",
    "df_videos_cleaned_v10_value.loc[298, 'Topic'] = 'General'\n",
    "df_videos_cleaned_v10_value.loc[551, 'Topic'] = 'General'\n",
    "df_videos_cleaned_v10_value.loc[521, 'Topic'] = 'Valuation'\n",
    "df_videos_cleaned_v10_value.loc[1436, 'Topic'] = 'Growth Investing vs. Value Investing'\n",
    "df_videos_cleaned_v10_value.loc[37, 'Topic'] = 'General'\n",
    "df_videos_cleaned_v10_value.loc[395, 'Topic'] = 'Valuation'\n",
    "df_videos_cleaned_v10_value.loc[700, 'Topic'] = 'Technology Stocks'\n",
    "df_videos_cleaned_v10_value.loc[6, 'Topic'] = 'General'\n",
    "df_videos_cleaned_v10_value.loc[115, 'Topic'] = 'General'\n",
    "df_videos_cleaned_v10_value.loc[547, 'Topic'] = 'General'\n",
    "df_videos_cleaned_v10_value.loc[852, 'Topic'] = 'Growth Investing vs. Value Investing'\n",
    "df_videos_cleaned_v10_value.loc[45, 'Topic'] = 'General'\n",
    "df_videos_cleaned_v10_value.loc[522, 'Topic'] = 'General'\n",
    "df_videos_cleaned_v10_value.loc[1337, 'Topic'] = 'General'\n",
    "df_videos_cleaned_v10_value.loc[714, 'Topic'] = 'General'\n",
    "df_videos_cleaned_v10_value.loc[499, 'Topic'] = 'General'\n",
    "df_videos_cleaned_v10_value.loc[148, 'Topic'] = 'General'\n",
    "df_videos_cleaned_v10_value.loc[667, 'Topic'] = 'Technology Stocks'\n",
    "df_videos_cleaned_v10_value.loc[775, 'Topic'] = 'Valuation'\n",
    "df_videos_cleaned_v10_value.loc[936, 'Topic'] = 'Valuation'\n",
    "df_videos_cleaned_v10_value.loc[530, 'Topic'] = 'Valuation'\n",
    "df_videos_cleaned_v10_value.loc[5, 'Topic'] = 'General'\n",
    "df_videos_cleaned_v10_value.loc[603, 'Topic'] = 'General'\n",
    "df_videos_cleaned_v10_value.loc[491, 'Topic'] = 'General'\n",
    "df_videos_cleaned_v10_value.loc[114, 'Topic'] = 'Fundamental vs. Technical Analysis'\n",
    "df_videos_cleaned_v10_value.loc[647, 'Topic'] = 'General'\n",
    "df_videos_cleaned_v10_value.loc[664, 'Topic'] = 'Valuation'\n",
    "df_videos_cleaned_v10_value.loc[156, 'Topic'] = 'Valuation'\n",
    "df_videos_cleaned_v10_value.loc[1586, 'Topic'] = 'General'\n",
    "df_videos_cleaned_v10_value.loc[393, 'Topic'] = 'General'\n",
    "df_videos_cleaned_v10_value.loc[638, 'Topic'] = 'Valuation'\n",
    "df_videos_cleaned_v10_value.loc[724, 'Topic'] = 'Valuation'\n",
    "df_videos_cleaned_v10_value.loc[470, 'Topic'] = 'Valuation'\n",
    "df_videos_cleaned_v10_value.loc[627, 'Topic'] = 'General'\n",
    "df_videos_cleaned_v10_value.loc[675, 'Topic'] = 'Technology Stocks'\n",
    "df_videos_cleaned_v10_value.loc[576, 'Topic'] = 'General'\n",
    "df_videos_cleaned_v10_value.loc[535, 'Topic'] = 'General'\n",
    "df_videos_cleaned_v10_value.loc[573, 'Topic'] = 'Valuation'\n",
    "df_videos_cleaned_v10_value.loc[585, 'Topic'] = 'General'\n",
    "df_videos_cleaned_v10_value.loc[773, 'Topic'] = 'Valuation'\n",
    "df_videos_cleaned_v10_value.loc[1681, 'Topic'] = 'Dividend Investing'\n",
    "df_videos_cleaned_v10_value.loc[529, 'Topic'] = 'General'\n",
    "df_videos_cleaned_v10_value.loc[377, 'Topic'] = 'Valuation'\n",
    "df_videos_cleaned_v10_value.loc[728, 'Topic'] = 'Technology Stocks'\n",
    "df_videos_cleaned_v10_value.loc[682, 'Topic'] = 'Valuation'\n",
    "df_videos_cleaned_v10_value.loc[516, 'Topic'] = 'Valuation'\n",
    "df_videos_cleaned_v10_value.loc[378, 'Topic'] = 'Valuation'\n",
    "df_videos_cleaned_v10_value.loc[717, 'Topic'] = 'Valuation'\n",
    "df_videos_cleaned_v10_value.loc[1501, 'Topic'] = 'Technology Stocks'\n",
    "df_videos_cleaned_v10_value.loc[0, 'Topic'] = 'Fundamental vs. Technical Analysis'\n",
    "df_videos_cleaned_v10_value.loc[555, 'Topic'] = 'Valuation'\n",
    "df_videos_cleaned_v10_value.loc[169, 'Topic'] = 'Valuation'\n",
    "df_videos_cleaned_v10_value.loc[541, 'Topic'] = 'Valuation'\n",
    "df_videos_cleaned_v10_value.loc[68, 'Topic'] = 'General'\n",
    "df_videos_cleaned_v10_value.loc[540, 'Topic'] = 'Valuation'\n",
    "df_videos_cleaned_v10_value.loc[626, 'Topic'] = 'Valuation'\n",
    "df_videos_cleaned_v10_value.loc[542, 'Topic'] = 'Valuation'\n",
    "df_videos_cleaned_v10_value.loc[1034, 'Topic'] = 'General'\n",
    "df_videos_cleaned_v10_value.loc[583, 'Topic'] = 'Valuation'\n",
    "df_videos_cleaned_v10_value.loc[1366, 'Topic'] = 'General'\n",
    "df_videos_cleaned_v10_value.loc[868, 'Topic'] = 'Valuation'\n",
    "df_videos_cleaned_v10_value.loc[750, 'Topic'] = 'Valuation'\n",
    "df_videos_cleaned_v10_value.loc[469, 'Topic'] = 'Valuation'\n",
    "df_videos_cleaned_v10_value.loc[895, 'Topic'] = 'General'\n",
    "df_videos_cleaned_v10_value.loc[1223, 'Topic'] = 'Valuation'\n",
    "df_videos_cleaned_v10_value.loc[409, 'Topic'] = 'Valuation'\n",
    "df_videos_cleaned_v10_value.loc[383, 'Topic'] = 'Valuation'\n",
    "df_videos_cleaned_v10_value.loc[176, 'Topic'] = 'Valuation'\n",
    "df_videos_cleaned_v10_value.loc[548, 'Topic'] = 'Valuation'\n",
    "df_videos_cleaned_v10_value.loc[406, 'Topic'] = 'Valuation'\n",
    "df_videos_cleaned_v10_value.loc[846, 'Topic'] = 'Valuation'"
   ]
  },
  {
   "cell_type": "code",
   "execution_count": 28,
   "metadata": {},
   "outputs": [],
   "source": [
    "df_videos_cleaned_v10 = pd.concat([df_videos_cleaned_v10_value, df_videos_cleaned_v10_other])"
   ]
  },
  {
   "cell_type": "code",
   "execution_count": 29,
   "metadata": {},
   "outputs": [],
   "source": [
    "# df_videos_cleaned_v10 = df_videos_cleaned_v10.replace('Growth Investing vs. Value Investing', 'Growth Investing Vs. Value Investing')\n",
    "# df_videos_cleaned_v10 = df_videos_cleaned_v10.replace('Fundamental vs. Technical Analysis', 'Fundamental Vs. Technical Analysis')\n",
    "df_videos_cleaned_v10 = df_videos_cleaned_v10.drop([1133])"
   ]
  },
  {
   "cell_type": "code",
   "execution_count": 30,
   "metadata": {},
   "outputs": [
    {
     "data": {
      "text/plain": [
       "General                                 264\n",
       "Dividend Investing                      257\n",
       "Value Investing                         218\n",
       "Valuation                               195\n",
       "Technology Stocks                       180\n",
       "Economic Moats                          137\n",
       "Passive Investing                       126\n",
       "Fundamental vs. Technical Analysis      123\n",
       "Electric Vehicle Stocks                  83\n",
       "Long-term Investing                      71\n",
       "Valuation (Case Studies)                 64\n",
       "Growth Investing vs. Value Investing     59\n",
       "Name: Topic, dtype: int64"
      ]
     },
     "execution_count": 30,
     "metadata": {},
     "output_type": "execute_result"
    }
   ],
   "source": [
    "df_videos_cleaned_v10['Topic'].value_counts()"
   ]
  },
  {
   "cell_type": "markdown",
   "metadata": {},
   "source": [
    "### Pickle the modified dataframe "
   ]
  },
  {
   "cell_type": "code",
   "execution_count": 31,
   "metadata": {},
   "outputs": [],
   "source": [
    "pickle_df('df_videos_cleaned_v10')"
   ]
  },
  {
   "cell_type": "code",
   "execution_count": null,
   "metadata": {},
   "outputs": [],
   "source": []
  }
 ],
 "metadata": {
  "kernelspec": {
   "display_name": "Python 3",
   "language": "python",
   "name": "python3"
  },
  "language_info": {
   "codemirror_mode": {
    "name": "ipython",
    "version": 3
   },
   "file_extension": ".py",
   "mimetype": "text/x-python",
   "name": "python",
   "nbconvert_exporter": "python",
   "pygments_lexer": "ipython3",
   "version": "3.8.5"
  }
 },
 "nbformat": 4,
 "nbformat_minor": 4
}
