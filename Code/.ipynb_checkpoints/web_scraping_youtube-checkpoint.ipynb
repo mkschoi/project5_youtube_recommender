{
 "cells": [
  {
   "cell_type": "code",
   "execution_count": 25,
   "metadata": {},
   "outputs": [
    {
     "name": "stdout",
     "output_type": "stream",
     "text": [
      "The autoreload extension is already loaded. To reload it, use:\n",
      "  %reload_ext autoreload\n"
     ]
    }
   ],
   "source": [
    "import scrape_utils as su\n",
    "import preprocessing_utils as pu\n",
    "\n",
    "%load_ext autoreload\n",
    "%autoreload 2"
   ]
  },
  {
   "cell_type": "markdown",
   "metadata": {},
   "source": [
    "### List all the relevant educational topics in stock investing as search queries (make sure these are not closely related to prevent search results that are too similar)"
   ]
  },
  {
   "cell_type": "code",
   "execution_count": 20,
   "metadata": {},
   "outputs": [],
   "source": [
    "list_of_search_queries = ['fundamental investing', 'value investing', 'growth investing', 'long term investing', \n",
    "                          'stock valuation', 'competitive moats', 'passive investing']"
   ]
  },
  {
   "cell_type": "markdown",
   "metadata": {},
   "source": [
    "### Put all the video links of each search result into a list.  Most search results end after 35+ scrolls so will keep our scrolls to 30.  Comment them out afterward to prevent reproducing different sets of video links (this is necessary as YouTube is dynamic)"
   ]
  },
  {
   "cell_type": "code",
   "execution_count": 21,
   "metadata": {},
   "outputs": [],
   "source": [
    "# fundamental_investing_links = get_video_link(list_of_search_queries[0], 30)\n",
    "# value_investing_links = get_video_link(list_of_search_queries[1], 30)\n",
    "# growth_investing_links = get_video_link(list_of_search_queries[2], 30)\n",
    "# long_term_investing_links = get_video_link(list_of_search_queries[3], 30)\n",
    "# stock_valuation_links = get_video_link(list_of_search_queries[4], 30)\n",
    "# competitive_moats_links = get_video_link(list_of_search_queries[5], 3)\n",
    "passive_investing_links = su.get_video_link(list_of_search_queries[6], 2)"
   ]
  },
  {
   "cell_type": "markdown",
   "metadata": {},
   "source": [
    "### Run the function that scrapes data from each video page.  Save the resulting dataframe into a variable.  Had to cut the list of video links into smaller chunks due to intermittent buffering (need to figure out a fix).  "
   ]
  },
  {
   "cell_type": "code",
   "execution_count": 23,
   "metadata": {},
   "outputs": [],
   "source": [
    "# df_videos_raw1 = su.video_page_scraper(fundamental_investing_links)\n",
    "# df_videos_raw2 = su.video_page_scraper(value_investing_links)\n",
    "# df_videos_raw3 = su.video_page_scraper(growth_investing_links)\n",
    "# df_videos_raw4 = su.video_page_scraper(long_term_investing_links)\n",
    "# df_videos_raw5 = su.video_page_scraper(stock_valuation_links)\n",
    "# df_videos_raw6 = su.video_page_scraper(competitive_moats_links)\n",
    "df_videos_raw7 = su.video_page_scraper(passive_investing_links)"
   ]
  },
  {
   "cell_type": "markdown",
   "metadata": {},
   "source": [
    "### Merge the smaller dataframes to create a single dataframe per search query.  "
   ]
  },
  {
   "cell_type": "code",
   "execution_count": 32,
   "metadata": {},
   "outputs": [],
   "source": [
    "# df_videos_raw_fundamental_investing = pu.merge_video_dataframes('df_videos_raw1')\n",
    "# df_videos_raw_value_investing = pu.merge_video_dataframes('df_videos_raw2')\n",
    "# df_videos_raw_growth_investing = pu.merge_video_dataframes('df_videos_raw3')\n",
    "# df_videos_raw_long_term_investing = pu.merge_video_dataframes('df_videos_raw4')\n",
    "# df_videos_raw_stock_valuation = pu.merge_video_dataframes('df_videos_raw5')\n",
    "# df_videos_raw_competitive_moats = pu.merge_video_dataframes('df_videos_raw6')\n",
    "df_videos_raw_passive_investing = df_videos_raw7.copy()"
   ]
  },
  {
   "cell_type": "markdown",
   "metadata": {},
   "source": [
    "### Save the dataframes into .csv files"
   ]
  },
  {
   "cell_type": "code",
   "execution_count": 39,
   "metadata": {},
   "outputs": [],
   "source": [
    "# df_videos_raw_fundamental_investing.to_csv('../Data/{}.csv'.format('df_videos_raw_fundamental_investing'), index=False)\n",
    "# df_videos_raw_value_investing.to_csv('../Data/{}.csv'.format('df_videos_raw_value_investing'), index=False)\n",
    "# df_videos_raw_growth_investing.to_csv('../Data/{}.csv'.format('df_videos_raw_growth_investing'), index=False)\n",
    "# df_videos_raw_long_term_investing.to_csv('../Data/{}.csv'.format('df_videos_raw_long_term_investing'), index=False)\n",
    "# df_videos_raw_stock_valuation.to_csv('../Data/{}.csv'.format('df_videos_raw_stock_valuation'), index=False)\n",
    "# df_videos_raw_competitive_moats.to_csv('../Data/{}.csv'.format('df_videos_raw_competitive_moats'), index=False)\n",
    "df_videos_raw_passive_investing.to_csv('../Data/{}.csv'.format('df_videos_raw_passive_investing'), index=False)"
   ]
  },
  {
   "cell_type": "code",
   "execution_count": null,
   "metadata": {},
   "outputs": [],
   "source": []
  }
 ],
 "metadata": {
  "kernelspec": {
   "display_name": "Python 3",
   "language": "python",
   "name": "python3"
  },
  "language_info": {
   "codemirror_mode": {
    "name": "ipython",
    "version": 3
   },
   "file_extension": ".py",
   "mimetype": "text/x-python",
   "name": "python",
   "nbconvert_exporter": "python",
   "pygments_lexer": "ipython3",
   "version": "3.8.5"
  }
 },
 "nbformat": 4,
 "nbformat_minor": 4
}
