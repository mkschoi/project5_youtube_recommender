{
 "cells": [
  {
   "cell_type": "code",
   "execution_count": 1,
   "metadata": {},
   "outputs": [],
   "source": [
    "import pandas as pd\n",
    "import numpy as np\n",
    "import glob\n",
    "from ast import literal_eval\n",
    "\n",
    "pd.set_option(\"display.max_columns\", 20)\n",
    "pd.set_option(\"display.max_rows\", 2000)"
   ]
  },
  {
   "cell_type": "markdown",
   "metadata": {},
   "source": [
    "### All the functions (Need to put these into a separate .py file)"
   ]
  },
  {
   "cell_type": "code",
   "execution_count": 2,
   "metadata": {},
   "outputs": [],
   "source": [
    "def read_and_merge(path):\n",
    "    '''\n",
    "    Input: Path of directory where all the csv files are located\n",
    "    Output: Merged dataframe of all csv files in the directory\n",
    "    '''\n",
    "    ## Finds all the csv files in a directory and put them into a list\n",
    "    df_list = []\n",
    "    for file in glob.glob(path):\n",
    "        df = pd.read_csv(str(file))\n",
    "        df_list.append(df)\n",
    "        \n",
    "    ## Merges all dataframes in the csv files\n",
    "    df_merged = df_list[0]\n",
    "    for df in df_list[1:]:\n",
    "        df_merged = pd.concat([df_merged, df])\n",
    "        \n",
    "    return df_merged"
   ]
  },
  {
   "cell_type": "code",
   "execution_count": 3,
   "metadata": {},
   "outputs": [],
   "source": [
    "def df_preprocessing_pipeline(df):\n",
    "    '''\n",
    "    Input: Datafrome to be preprocessed\n",
    "    Output: Preprocessed dataframe\n",
    "    '''\n",
    "    ## Drops rows with NaNs in the 'Transcript' column\n",
    "    df = df[df['Transcript'].notna()]\n",
    "    \n",
    "    ## Drops duplicate videos\n",
    "    df = df.drop_duplicates(subset=['Video_ID'])\n",
    "    \n",
    "    ## Drops videos with duration < 1 minute\n",
    "    df_cleaned = df[(df['Duration'].str.len() >=5) | (df['Duration'].str[-4]!='0')]\n",
    "    \n",
    "    return df_cleaned\n",
    "    "
   ]
  },
  {
   "cell_type": "code",
   "execution_count": 4,
   "metadata": {},
   "outputs": [],
   "source": [
    "def grab_transcript_text(df):\n",
    "    '''\n",
    "    Input: Dataframe with raw values in the Transcript column\n",
    "    Output: Dataframe with only text in the Transcript column, in a string format\n",
    "    '''\n",
    "    ## Create a function for grabbing the text values and putting into a single string\n",
    "    def transcript_text_string(transcript_dict_list):\n",
    "        text_list = []\n",
    "        for dict_text in literal_eval(transcript_dict_list):\n",
    "            text = dict_text['text']\n",
    "            text_list.append(text)\n",
    "            \n",
    "        text_string = ' '.join(text_list)\n",
    "            \n",
    "        return text_string\n",
    "    \n",
    "    df['Transcript'] = df['Transcript'].apply(transcript_text_string)\n",
    "            \n",
    "    return df   "
   ]
  },
  {
   "cell_type": "code",
   "execution_count": 11,
   "metadata": {},
   "outputs": [],
   "source": [
    "def df_to_csv(df_str):\n",
    "    '''\n",
    "    Input: Name of a dataframe in a string format\n",
    "    Output: CSV file of the dataframe saved into the Data folder\n",
    "    '''\n",
    "    eval(df_str).to_csv('../Data/{}.csv'.format(df_str), index=False)"
   ]
  },
  {
   "cell_type": "markdown",
   "metadata": {},
   "source": [
    "### Read in the CSVs and merge them"
   ]
  },
  {
   "cell_type": "code",
   "execution_count": 5,
   "metadata": {},
   "outputs": [],
   "source": [
    "df_videos_raw = read_and_merge('/Users/mike/Desktop/GitHub Repositories/project5_youtube_recommender/Data/*.csv')"
   ]
  },
  {
   "cell_type": "markdown",
   "metadata": {},
   "source": [
    "### Preprocess the dataframe to remove rows with NaNs, duplicate vidoes, videos with duration < 1 minute, and irrelevant videos not related to investing"
   ]
  },
  {
   "cell_type": "code",
   "execution_count": 6,
   "metadata": {},
   "outputs": [],
   "source": [
    "df_videos_cleaned_v1 = df_preprocessing_pipeline(df_videos_raw).reset_index(drop=True)"
   ]
  },
  {
   "cell_type": "code",
   "execution_count": 7,
   "metadata": {
    "jupyter": {
     "source_hidden": true
    }
   },
   "outputs": [],
   "source": [
    "## Drop irrelevant videos not related to stock investing\n",
    "rows_to_drop = df_videos_cleaned_v1[(df_videos_cleaned_v1['Title'].str.contains('Forex')==True) |\n",
    "                            (df_videos_cleaned_v1['Title'].str.contains('Crypto')==True) |\n",
    "                            (df_videos_cleaned_v1['Title'].str.contains('Brand Moat')==True) |\n",
    "                            (df_videos_cleaned_v1['Title'].str.contains('Richard Moat')==True) |\n",
    "                            (df_videos_cleaned_v1['Title'].str.contains('Clips From The Moat')==True) |\n",
    "                            (df_videos_cleaned_v1['Title'].str.contains('Geraghty-Moats')==True) |\n",
    "                            (df_videos_cleaned_v1['Title'].str.contains('Bitcoin')==True) |\n",
    "                            (df_videos_cleaned_v1['Video_ID']=='gx6JOPTWznQ') | \n",
    "                            (df_videos_cleaned_v1['Video_ID']=='drGxSXK8Jwc') | \n",
    "                            (df_videos_cleaned_v1['Video_ID']=='u7KkCSpuBLo') |\n",
    "                            (df_videos_cleaned_v1['Video_ID']=='wM7uNy_ColA') |\n",
    "                            (df_videos_cleaned_v1['Video_ID']=='OEUWbKSXYD0') |\n",
    "                            (df_videos_cleaned_v1['Video_ID']=='UDRgo-FLGh0') |\n",
    "                            (df_videos_cleaned_v1['Video_ID']=='571EoMTCUSw') |\n",
    "                            (df_videos_cleaned_v1['Video_ID']=='CV39QzFpJx4') |\n",
    "                            (df_videos_cleaned_v1['Video_ID']=='Mak8d_JSgyU') |\n",
    "                            (df_videos_cleaned_v1['Video_ID']=='YUX3Y8ONuB4') |\n",
    "                            (df_videos_cleaned_v1['Video_ID']=='WyVnrJq46Iw') |\n",
    "                            (df_videos_cleaned_v1['Video_ID']=='I4AXdn1w15c') |\n",
    "                            (df_videos_cleaned_v1['Video_ID']=='hnISD7EKV-A') |\n",
    "                            (df_videos_cleaned_v1['Video_ID']=='PdTBLPL2yos') |\n",
    "                            (df_videos_cleaned_v1['Video_ID']=='YFNjyIcnJSw') |\n",
    "                            (df_videos_cleaned_v1['Video_ID']=='b68xiEj9iyc') |\n",
    "                            (df_videos_cleaned_v1['Video_ID']=='2wcnuRSMURw') |\n",
    "                            (df_videos_cleaned_v1['Video_ID']=='HL-DFblqDxc') |\n",
    "                            (df_videos_cleaned_v1['Video_ID']=='TzWh3hBJZEs') |\n",
    "                            (df_videos_cleaned_v1['Video_ID']=='PzWIch-kh3c') |\n",
    "                            (df_videos_cleaned_v1['Video_ID']=='XXsoswLThAI') |\n",
    "                            (df_videos_cleaned_v1['Video_ID']=='7WL1Vw4g8OA') |\n",
    "                            (df_videos_cleaned_v1['Video_ID']=='DCkyNT39TUA') |\n",
    "                            (df_videos_cleaned_v1['Video_ID']=='NC2HECcxYjk') |\n",
    "                            (df_videos_cleaned_v1['Video_ID']=='oQx2TNvnO7Q') |\n",
    "                            (df_videos_cleaned_v1['Video_ID']=='x7npmocd2Gk') |\n",
    "                            (df_videos_cleaned_v1['Video_ID']=='N7t7sI8UPDI') |\n",
    "                            (df_videos_cleaned_v1['Video_ID']=='AQRLlMrwo7U') |\n",
    "                            (df_videos_cleaned_v1['Video_ID']=='5FtSC0RqmfQ') |\n",
    "                            (df_videos_cleaned_v1['Video_ID']=='S_h2mHRe_hE') |\n",
    "                            (df_videos_cleaned_v1['Video_ID']=='9QBoh4U5WC4') |\n",
    "                            (df_videos_cleaned_v1['Video_ID']=='u-JlA-fk_xM') |\n",
    "                            (df_videos_cleaned_v1['Video_ID']=='u7RO3Eeu1PI') |\n",
    "                            (df_videos_cleaned_v1['Video_ID']=='_grMQithgA0') |\n",
    "                            (df_videos_cleaned_v1['Video_ID']=='ug2_GWkbF1o') |\n",
    "                            (df_videos_cleaned_v1['Video_ID']=='brtr9vSxh7M') |\n",
    "                            (df_videos_cleaned_v1['Video_ID']=='fyi9g5AkBkY') |\n",
    "                            (df_videos_cleaned_v1['Video_ID']=='YDZzvisSsvQ') |\n",
    "                            (df_videos_cleaned_v1['Video_ID']=='79GibY7iTZg') |\n",
    "                            (df_videos_cleaned_v1['Video_ID']=='oYU89WNmH8g') |\n",
    "                            (df_videos_cleaned_v1['Video_ID']=='PESfQZiv5KQ') |\n",
    "                            (df_videos_cleaned_v1['Video_ID']=='PK5b6Zd7thg') |\n",
    "                            (df_videos_cleaned_v1['Video_ID']=='9_nf0zaLy2Y') |\n",
    "                            (df_videos_cleaned_v1['Video_ID']=='hw0KmIZi2g8') |\n",
    "                            (df_videos_cleaned_v1['Video_ID']=='CUCzCVa_7cY') |\n",
    "                            (df_videos_cleaned_v1['Video_ID']=='lbOvcKqEdU0') |\n",
    "                            (df_videos_cleaned_v1['Video_ID']=='xy0aNUVLPpY') |\n",
    "                            (df_videos_cleaned_v1['Video_ID']=='YV9e6tYWgIU') |\n",
    "                            (df_videos_cleaned_v1['Video_ID']=='sF0hIo0VAuk') |\n",
    "                            (df_videos_cleaned_v1['Video_ID']=='CTTKFUzeWI0') |\n",
    "                            (df_videos_cleaned_v1['Video_ID']=='ts-TptT_NZI') |\n",
    "                            (df_videos_cleaned_v1['Video_ID']=='iHxAPsmos4M') |\n",
    "                            (df_videos_cleaned_v1['Video_ID']=='IFYrFeAygfc') |\n",
    "                            (df_videos_cleaned_v1['Video_ID']=='LgXL6q7vdm8') |\n",
    "                            (df_videos_cleaned_v1['Video_ID']=='TwGAQ2tuJPg') |\n",
    "                            (df_videos_cleaned_v1['Video_ID']=='W0kzME-kSFk') |\n",
    "                            (df_videos_cleaned_v1['Video_ID']=='Q6e6oCXbbPo') |\n",
    "                            (df_videos_cleaned_v1['Video_ID']=='kuiUq_TCRJ0') |\n",
    "                            (df_videos_cleaned_v1['Video_ID']=='M_SiX-ASntY') |\n",
    "                            (df_videos_cleaned_v1['Video_ID']=='xjE311nBsXg') |\n",
    "                            (df_videos_cleaned_v1['Video_ID']=='ejn--JYXsNU') |\n",
    "                            (df_videos_cleaned_v1['Video_ID']=='KYePUROUoAs') |\n",
    "                            (df_videos_cleaned_v1['Video_ID']=='jJjtYb-FhYU') |\n",
    "                            (df_videos_cleaned_v1['Video_ID']=='kebonpz4bD0') |\n",
    "                            (df_videos_cleaned_v1['Video_ID']=='_gm8YzjDkeI') |\n",
    "                            (df_videos_cleaned_v1['Video_ID']=='k6xfTJzoEtY') |\n",
    "                            (df_videos_cleaned_v1['Video_ID']=='CgOfNkP8kJo') |\n",
    "                            (df_videos_cleaned_v1['Video_ID']=='rW9P5EyiiMU') |\n",
    "                            (df_videos_cleaned_v1['Video_ID']=='2MQ46Es9rTU') |\n",
    "                            (df_videos_cleaned_v1['Video_ID']=='KZ9Wf9wP0UM') |\n",
    "                            (df_videos_cleaned_v1['Video_ID']=='A7yyPn3_18E') |\n",
    "                            (df_videos_cleaned_v1['Video_ID']=='Wtcz4zi1IK4') |\n",
    "                            (df_videos_cleaned_v1['Video_ID']=='Y0amF_F6EvI') |\n",
    "                            (df_videos_cleaned_v1['Video_ID']=='e9KXzTdqV80') |\n",
    "                            (df_videos_cleaned_v1['Video_ID']=='ViFgKUbGxHo') |\n",
    "                            (df_videos_cleaned_v1['Video_ID']=='rGKBRacvasg') |\n",
    "                            (df_videos_cleaned_v1['Video_ID']=='ra9SufwwaRk') |\n",
    "                            (df_videos_cleaned_v1['Video_ID']=='HCBbJKs5SgA') |\n",
    "                            (df_videos_cleaned_v1['Video_ID']=='5HOsl9WEvX8') |\n",
    "                            (df_videos_cleaned_v1['Video_ID']=='Dq1ddyBapRA') |\n",
    "                            (df_videos_cleaned_v1['Video_ID']=='0FNHMZJ2A0k') |\n",
    "                            (df_videos_cleaned_v1['Video_ID']=='efQmjeCZiiU') |\n",
    "                            (df_videos_cleaned_v1['Video_ID']=='kjz1YPA0WTI') |\n",
    "                            (df_videos_cleaned_v1['Video_ID']=='YAdPCXpwj6I') |\n",
    "                            (df_videos_cleaned_v1['Video_ID']=='NftVyw7gQw0') |\n",
    "                            (df_videos_cleaned_v1['Video_ID']=='osy4iN_ae-E') |\n",
    "                            (df_videos_cleaned_v1['Video_ID']=='ED8x64yOrQY') |\n",
    "                            (df_videos_cleaned_v1['Video_ID']=='VIoO953WF5c') |\n",
    "                            (df_videos_cleaned_v1['Video_ID']=='SSj__PzxOu4') |\n",
    "                            (df_videos_cleaned_v1['Video_ID']=='dEBmJ1XsMYI') |\n",
    "                            (df_videos_cleaned_v1['Video_ID']=='1PZkupf3Y7k') |\n",
    "                            (df_videos_cleaned_v1['Video_ID']=='zkCg8p1HeKc') ].index\n",
    "\n",
    "df_videos_cleaned_v2 = df_videos_cleaned_v1.drop(rows_to_drop).reset_index(drop=True)"
   ]
  },
  {
   "cell_type": "markdown",
   "metadata": {},
   "source": [
    "### Grab only the text from the Transcript column (each cell contains a dictionary of text, start time, and duration)"
   ]
  },
  {
   "cell_type": "code",
   "execution_count": 8,
   "metadata": {},
   "outputs": [],
   "source": [
    "df_videos_cleaned_v3 = grab_transcript_text(df_videos_cleaned_v2)"
   ]
  },
  {
   "cell_type": "markdown",
   "metadata": {},
   "source": [
    "### Save the cleaned dataframe into a CSV file"
   ]
  },
  {
   "cell_type": "code",
   "execution_count": 12,
   "metadata": {},
   "outputs": [],
   "source": [
    "df_to_csv('df_videos_cleaned_v3')"
   ]
  },
  {
   "cell_type": "code",
   "execution_count": null,
   "metadata": {},
   "outputs": [],
   "source": []
  }
 ],
 "metadata": {
  "kernelspec": {
   "display_name": "Python 3",
   "language": "python",
   "name": "python3"
  },
  "language_info": {
   "codemirror_mode": {
    "name": "ipython",
    "version": 3
   },
   "file_extension": ".py",
   "mimetype": "text/x-python",
   "name": "python",
   "nbconvert_exporter": "python",
   "pygments_lexer": "ipython3",
   "version": "3.8.5"
  }
 },
 "nbformat": 4,
 "nbformat_minor": 4
}
