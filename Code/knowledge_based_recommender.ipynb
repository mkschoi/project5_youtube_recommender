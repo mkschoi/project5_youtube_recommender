{
 "cells": [
  {
   "cell_type": "code",
   "execution_count": 24,
   "metadata": {},
   "outputs": [
    {
     "name": "stdout",
     "output_type": "stream",
     "text": [
      "The autoreload extension is already loaded. To reload it, use:\n",
      "  %reload_ext autoreload\n"
     ]
    }
   ],
   "source": [
    "import numpy as np\n",
    "import pandas as pd\n",
    "import pickle\n",
    "from IPython.display import clear_output\n",
    "\n",
    "%load_ext autoreload\n",
    "%autoreload 2"
   ]
  },
  {
   "cell_type": "code",
   "execution_count": 25,
   "metadata": {},
   "outputs": [],
   "source": [
    "df_videos_cleaned_v9 = pickle.load(open('../Data/df_videos_cleaned_v9.pickle', 'rb'))"
   ]
  },
  {
   "cell_type": "markdown",
   "metadata": {},
   "source": [
    "### All the functions (Need to put these into a separate .py file)"
   ]
  },
  {
   "cell_type": "code",
   "execution_count": 26,
   "metadata": {},
   "outputs": [],
   "source": [
    "def initial_recommender(df):\n",
    "    '''\n",
    "    Input: Final dataframe of video data, user input on topic, duration, and upload date\n",
    "    Output: Top five recommendations\n",
    "    '''\n",
    "    ## Define a new variable to store the preferred videos. Copy the contents of df to filtered videos\n",
    "    filtered_videos = df.copy()\n",
    "    \n",
    "    ## Take user inputs\n",
    "    print('Input preferred topic')\n",
    "    topic = input().title()\n",
    "    \n",
    "#     print('Input preferred duration of video. Less than {} minutes')\n",
    "#     duration = int(input())\n",
    "    \n",
    "#     print('Input preferred upload date of video. Less than {} months')\n",
    "#     upload_date = int(input())\n",
    "\n",
    "    clear_output()\n",
    "\n",
    "    ## Return top five videos based on topic coefficient (how relevant the videos are to the user's topic)\n",
    "    filtered_videos = filtered_videos[filtered_videos['Topic']==topic]\n",
    "    top_five_videos = filtered_videos.sort_values('Topic Coefficient', ascending=False).head()\n",
    "    \n",
    "    return top_five_videos"
   ]
  },
  {
   "cell_type": "markdown",
   "metadata": {},
   "source": [
    "### Initial knowledge-based recommender"
   ]
  },
  {
   "cell_type": "code",
   "execution_count": 28,
   "metadata": {},
   "outputs": [
    {
     "data": {
      "text/html": [
       "<div>\n",
       "<style scoped>\n",
       "    .dataframe tbody tr th:only-of-type {\n",
       "        vertical-align: middle;\n",
       "    }\n",
       "\n",
       "    .dataframe tbody tr th {\n",
       "        vertical-align: top;\n",
       "    }\n",
       "\n",
       "    .dataframe thead th {\n",
       "        text-align: right;\n",
       "    }\n",
       "</style>\n",
       "<table border=\"1\" class=\"dataframe\">\n",
       "  <thead>\n",
       "    <tr style=\"text-align: right;\">\n",
       "      <th></th>\n",
       "      <th>Video_ID</th>\n",
       "      <th>Title</th>\n",
       "      <th>Upload Date</th>\n",
       "      <th>Duration</th>\n",
       "      <th>Views</th>\n",
       "      <th>Number of Likes</th>\n",
       "      <th>Description</th>\n",
       "      <th>Transcript</th>\n",
       "      <th>Topic</th>\n",
       "      <th>Topic Coefficient</th>\n",
       "    </tr>\n",
       "  </thead>\n",
       "  <tbody>\n",
       "    <tr>\n",
       "      <th>357</th>\n",
       "      <td>7MCuwYTTdxE</td>\n",
       "      <td>YIS Unit 3: Lesson 2 - Whatever Floats Your Moat</td>\n",
       "      <td>2019-09-02</td>\n",
       "      <td>18:20</td>\n",
       "      <td>202 views</td>\n",
       "      <td>4</td>\n",
       "      <td>Join the largest High School Investing organiz...</td>\n",
       "      <td>[(music, NOUN), (welcome, VERB), (young, ADJ),...</td>\n",
       "      <td>Competitive Moats</td>\n",
       "      <td>0.338</td>\n",
       "    </tr>\n",
       "    <tr>\n",
       "      <th>324</th>\n",
       "      <td>OHCpUcerz1Q</td>\n",
       "      <td>Economic Moat (Competitive Advantage): Warren ...</td>\n",
       "      <td>2020-11-22</td>\n",
       "      <td>14:49</td>\n",
       "      <td>53 views</td>\n",
       "      <td>2</td>\n",
       "      <td>What is an Economic Moat and how does an inves...</td>\n",
       "      <td>[(people, NOUN), (prefer, VERB), (buy, VERB), ...</td>\n",
       "      <td>Competitive Moats</td>\n",
       "      <td>0.336</td>\n",
       "    </tr>\n",
       "    <tr>\n",
       "      <th>362</th>\n",
       "      <td>5MBalQDK5IA</td>\n",
       "      <td>FUNDAMENTAL IN VALUE INVESTING - Economic Moat...</td>\n",
       "      <td>2020-05-26</td>\n",
       "      <td>8:26</td>\n",
       "      <td>No views</td>\n",
       "      <td>0</td>\n",
       "      <td>Investing is only complex when you are not wel...</td>\n",
       "      <td>[(hey, INTJ), (welcome, NOUN), (module, PROPN)...</td>\n",
       "      <td>Competitive Moats</td>\n",
       "      <td>0.335</td>\n",
       "    </tr>\n",
       "    <tr>\n",
       "      <th>264</th>\n",
       "      <td>foiHBYfld2c</td>\n",
       "      <td>How to Pick a Strong Moat | Economic Moats Exp...</td>\n",
       "      <td>2018-12-10</td>\n",
       "      <td>12:29</td>\n",
       "      <td>3,024 views</td>\n",
       "      <td>141</td>\n",
       "      <td>★ ★ MY COURSES ★ ★\\n\\nStock Market Investing f...</td>\n",
       "      <td>[(hey, INTJ), (welcome, VERB), (ozzie, PROPN),...</td>\n",
       "      <td>Competitive Moats</td>\n",
       "      <td>0.326</td>\n",
       "    </tr>\n",
       "    <tr>\n",
       "      <th>331</th>\n",
       "      <td>mlQYI4CiPBI</td>\n",
       "      <td>What are Morningstar's Economic Moat Ratings?</td>\n",
       "      <td>2016-03-15</td>\n",
       "      <td>1:37</td>\n",
       "      <td>183 views</td>\n",
       "      <td>1</td>\n",
       "      <td>The Morningstar Economic Moat Rating represent...</td>\n",
       "      <td>[(morningstar, PROPN), (economic, ADJ), (moat,...</td>\n",
       "      <td>Competitive Moats</td>\n",
       "      <td>0.322</td>\n",
       "    </tr>\n",
       "  </tbody>\n",
       "</table>\n",
       "</div>"
      ],
      "text/plain": [
       "        Video_ID                                              Title  \\\n",
       "357  7MCuwYTTdxE   YIS Unit 3: Lesson 2 - Whatever Floats Your Moat   \n",
       "324  OHCpUcerz1Q  Economic Moat (Competitive Advantage): Warren ...   \n",
       "362  5MBalQDK5IA  FUNDAMENTAL IN VALUE INVESTING - Economic Moat...   \n",
       "264  foiHBYfld2c  How to Pick a Strong Moat | Economic Moats Exp...   \n",
       "331  mlQYI4CiPBI      What are Morningstar's Economic Moat Ratings?   \n",
       "\n",
       "    Upload Date Duration        Views Number of Likes  \\\n",
       "357  2019-09-02    18:20    202 views               4   \n",
       "324  2020-11-22    14:49     53 views               2   \n",
       "362  2020-05-26     8:26     No views               0   \n",
       "264  2018-12-10    12:29  3,024 views             141   \n",
       "331  2016-03-15     1:37    183 views               1   \n",
       "\n",
       "                                           Description  \\\n",
       "357  Join the largest High School Investing organiz...   \n",
       "324  What is an Economic Moat and how does an inves...   \n",
       "362  Investing is only complex when you are not wel...   \n",
       "264  ★ ★ MY COURSES ★ ★\\n\\nStock Market Investing f...   \n",
       "331  The Morningstar Economic Moat Rating represent...   \n",
       "\n",
       "                                            Transcript              Topic  \\\n",
       "357  [(music, NOUN), (welcome, VERB), (young, ADJ),...  Competitive Moats   \n",
       "324  [(people, NOUN), (prefer, VERB), (buy, VERB), ...  Competitive Moats   \n",
       "362  [(hey, INTJ), (welcome, NOUN), (module, PROPN)...  Competitive Moats   \n",
       "264  [(hey, INTJ), (welcome, VERB), (ozzie, PROPN),...  Competitive Moats   \n",
       "331  [(morningstar, PROPN), (economic, ADJ), (moat,...  Competitive Moats   \n",
       "\n",
       "     Topic Coefficient  \n",
       "357              0.338  \n",
       "324              0.336  \n",
       "362              0.335  \n",
       "264              0.326  \n",
       "331              0.322  "
      ]
     },
     "execution_count": 28,
     "metadata": {},
     "output_type": "execute_result"
    }
   ],
   "source": [
    "initial_recommender(df_videos_cleaned_v9)"
   ]
  },
  {
   "cell_type": "code",
   "execution_count": null,
   "metadata": {},
   "outputs": [],
   "source": []
  }
 ],
 "metadata": {
  "kernelspec": {
   "display_name": "Python 3",
   "language": "python",
   "name": "python3"
  },
  "language_info": {
   "codemirror_mode": {
    "name": "ipython",
    "version": 3
   },
   "file_extension": ".py",
   "mimetype": "text/x-python",
   "name": "python",
   "nbconvert_exporter": "python",
   "pygments_lexer": "ipython3",
   "version": "3.8.5"
  }
 },
 "nbformat": 4,
 "nbformat_minor": 4
}
